{
 "cells": [
  {
   "cell_type": "markdown",
   "metadata": {},
   "source": [
    "# Coding Challange - 05"
   ]
  },
  {
   "cell_type": "markdown",
   "metadata": {},
   "source": [
    "### Question 1:\n",
    "\n",
    "Define a python function to print the longest word in the list of technologies given below.\n",
    "\n",
    "myList = ['Java', 'Data Science', 'Python', 'Machine Learning', 'Artificial Intelligence']\n",
    "\n",
    "#### Expected Output:\n",
    "\n",
    "Artificial Intelligence"
   ]
  },
  {
   "cell_type": "code",
   "execution_count": 1,
   "metadata": {},
   "outputs": [
    {
     "name": "stdout",
     "output_type": "stream",
     "text": [
      "Artificial Intelligence\n"
     ]
    }
   ],
   "source": [
    "def print_longest_word(word_list):\n",
    "    longest_word = max(word_list, key=len)\n",
    "    print(longest_word)\n",
    "    \n",
    "myList = ['Java', 'Data Science', 'Python', 'Machine Learning', 'Artificial Intelligence']\n",
    "print_longest_word(myList)"
   ]
  },
  {
   "cell_type": "markdown",
   "metadata": {},
   "source": [
    "### Question 2:\n",
    "\n",
    "Create a class Shape that is initialized with length. Then, define an instance method getArea that calculates the area of the Shape. Create another class, Square, which inherits the Shape class and overrides the getArea method to return the area of Square.\n",
    "\n",
    "#### Sample Input:\n",
    "\n",
    "Length of sqaure = 8\n",
    "\n",
    "#### Expected Output:\n",
    "\n",
    "64"
   ]
  },
  {
   "cell_type": "code",
   "execution_count": 4,
   "metadata": {},
   "outputs": [
    {
     "name": "stdout",
     "output_type": "stream",
     "text": [
      "64\n"
     ]
    }
   ],
   "source": [
    "class Shape:\n",
    "    def __init__(self, length):\n",
    "        self.length = length\n",
    "        \n",
    "    def getArea(self):\n",
    "        return self.length * self.length\n",
    "    \n",
    "class Square(Shape):\n",
    "    def getArea(self):\n",
    "        return self.length * self.length\n",
    "    \n",
    "length_of_square = 8\n",
    "square = Square(length_of_square)\n",
    "print(square.getArea())"
   ]
  },
  {
   "cell_type": "markdown",
   "metadata": {},
   "source": [
    "### Question 3:\n",
    "\n",
    "Write a python function to print the next palindrome after the specified integer. (Hint: Use the sys module to get the largest integer for the range.)\n",
    "\n",
    "#### Sample Input:\n",
    "\n",
    "num = 90\n",
    "\n",
    "#### Expected Output:\n",
    "\n",
    "99"
   ]
  },
  {
   "cell_type": "code",
   "execution_count": 6,
   "metadata": {},
   "outputs": [
    {
     "name": "stdout",
     "output_type": "stream",
     "text": [
      "99\n"
     ]
    }
   ],
   "source": [
    "import sys\n",
    "\n",
    "def is_palindrome(n):\n",
    "    return str(n) == str(n)[::-1]\n",
    "\n",
    "def next_palindrome(num):\n",
    "    for n in range(num + 1, sys.maxsize):\n",
    "        if is_palindrome(n):\n",
    "            return n\n",
    "        \n",
    "num = 90\n",
    "print(next_palindrome(num))"
   ]
  },
  {
   "cell_type": "markdown",
   "metadata": {},
   "source": [
    "### Question 4:\n",
    "\n",
    "Write a python function to check if the list of numbers given below is in Arithmetic Progression or not.\n",
    "\n",
    "myList = [5, 7, 9, 11]\n",
    "\n",
    "#### Expected Output:\n",
    "\n",
    "True"
   ]
  },
  {
   "cell_type": "code",
   "execution_count": 7,
   "metadata": {},
   "outputs": [
    {
     "name": "stdout",
     "output_type": "stream",
     "text": [
      "True\n"
     ]
    }
   ],
   "source": [
    "def is_arithmetic_progression(numbers):\n",
    "    if len(numbers) < 2:\n",
    "        return True\n",
    "    \n",
    "    common_difference = numbers[1] - numbers[0]\n",
    "    \n",
    "    for i in range(1, len(numbers)):\n",
    "        if numbers[i] - numbers[i - 1] != common_difference:\n",
    "            return False\n",
    "        \n",
    "    return True\n",
    "\n",
    "myList = [5, 7, 9, 11]\n",
    "print(is_arithmetic_progression(myList))"
   ]
  },
  {
   "cell_type": "markdown",
   "metadata": {},
   "source": [
    "### Question 5:\n",
    "\n",
    "Write a python class vowelsCheck to find the number of vowels in a string. Take the string input from the user.\n",
    "\n",
    "#### Expected Output:\n",
    "\n",
    "Enter a string: Artificial Intelligence is the future\n",
    "<br>Number of vowels:  13"
   ]
  },
  {
   "cell_type": "code",
   "execution_count": 9,
   "metadata": {},
   "outputs": [
    {
     "name": "stdout",
     "output_type": "stream",
     "text": [
      "Number of vowels:  15\n"
     ]
    }
   ],
   "source": [
    "class VowelsCheck:\n",
    "    def __init__(self, input_string):\n",
    "        self.input_string = input_string\n",
    "        \n",
    "    def count_vowels(self):\n",
    "        vowels = \"aeiouAEIOU\"\n",
    "        count = sum(1 for char in self.input_string if char in vowels)\n",
    "        return count\n",
    "    \n",
    "user_input = input(\"Enter a string: \")\n",
    "vowel_checker = VowelsCheck(user_input)\n",
    "print(\"Number of vowels: \", vowel_checker.count_vowels())"
   ]
  },
  {
   "cell_type": "markdown",
   "metadata": {},
   "source": [
    "### Question 6:\n",
    "\n",
    "Write a python exception handling program to check if the date of February entered is a multiple of 7 or not. Print the message 'Incorrect Date' if the date exceeds 28. For all other exceptions, print the message 'Invalid Data.' (Hint: User-defined exception)\n",
    "\n",
    "#### Sample Input - 1:\n",
    "\n",
    "Enter the date of February: 30\n",
    "\n",
    "#### Expected Output:\n",
    "\n",
    "Incorrect Date.\n",
    "\n",
    "#### Sample Input - 2:\n",
    "\n",
    "Enter the date of February: aa\n",
    "\n",
    "#### Expected Output:\n",
    "\n",
    "Invalid Data.\n",
    "\n",
    "#### Sample Input - 3:\n",
    "\n",
    "Enter the date of February: 21\n",
    "\n",
    "#### Expected Output:\n",
    "\n",
    "'Multiple of 7.'"
   ]
  },
  {
   "cell_type": "code",
   "execution_count": 10,
   "metadata": {},
   "outputs": [
    {
     "name": "stdout",
     "output_type": "stream",
     "text": [
      "Incorrect Date.\n"
     ]
    }
   ],
   "source": [
    "class IncorrectDateError(Exception):\n",
    "    pass\n",
    "\n",
    "def check_february_date(date):\n",
    "    try:\n",
    "        date = int(date)\n",
    "        \n",
    "        if date > 28:\n",
    "            raise IncorrectDateError(\"Incorrect Date.\")\n",
    "        \n",
    "        if date % 7 == 0:\n",
    "            print(\"Multiple of 7.\")\n",
    "        else:\n",
    "            print(\"Not a multiple of 7.\")\n",
    "    except IncorrectDateError as e:\n",
    "        print(e)\n",
    "    except ValueError:\n",
    "        print(\"Invalid Data.\")\n",
    "        \n",
    "date_input = input(\"Enter the date of February: \")\n",
    "check_february_date(date_input)"
   ]
  },
  {
   "cell_type": "markdown",
   "metadata": {},
   "source": [
    "### Question 7:\n",
    "\n",
    "Write a python function to find the maximum of three numbers from the list given below, without using the built-in function max().\n",
    "\n",
    "numList = [8, 12, 7]\n",
    "\n",
    "#### Expected Output:\n",
    "\n",
    "12"
   ]
  },
  {
   "cell_type": "code",
   "execution_count": 11,
   "metadata": {},
   "outputs": [
    {
     "name": "stdout",
     "output_type": "stream",
     "text": [
      "12\n"
     ]
    }
   ],
   "source": [
    "def find_maximum(numbers):\n",
    "    max_num = numbers[0]\n",
    "    if numbers[1] > max_num:\n",
    "        max_num = numbers[1]\n",
    "    if numbers[2] > max_num:\n",
    "        max_num = numbers[2]\n",
    "    return max_num\n",
    "\n",
    "numList = [8, 12, 7]\n",
    "print(find_maximum(numList))"
   ]
  },
  {
   "cell_type": "markdown",
   "metadata": {},
   "source": [
    "### Question 8:\n",
    "\n",
    "Create two modules volume1.py and volume2.py. The volume1.py module contains a class volume_1 that is initialized with length, breadth, and height. It is created to calculate the volumes of cube and cuboid. So, define two instance methods cube() and cuboid() in the class volume_1. The volume2.py module contains a class volume_2 that is initialized with radius and height. It is created to calculate the volumes of spheres, cones, and cylinders. So, define three instance methods sphere(), cone() and cylinder() in the class volume_2. Finally, create a python file result.py to call the methods of both these classes. Remember that the modules volume1.py and volume2.py can also call its methods separately in their respective modules.\n",
    "\n",
    "#### Sample Input:\n",
    "\n",
    "For volume1.py:\n",
    "\n",
    "Length = 3\n",
    "<br>Breadth = 4\n",
    "<br>Height = 5\n",
    "\n",
    "For volume2.py:\n",
    "\n",
    "Radius = 6\n",
    "<br>Height = 7\n",
    "\n",
    "Check for cuboid from volume1.py and sphere from volume2.py.\n",
    "\n",
    "#### Expected Output:\n",
    "\n",
    "60\n",
    "904.3199999999999"
   ]
  },
  {
   "cell_type": "code",
   "execution_count": 1,
   "metadata": {},
   "outputs": [
    {
     "data": {
      "text/plain": [
       "'\\nrefer to folder structure\\n\\nrun:\\n- volume1.py\\n- volume2.py\\n- result.py\\n'"
      ]
     },
     "execution_count": 1,
     "metadata": {},
     "output_type": "execute_result"
    }
   ],
   "source": [
    "'''\n",
    "refer to folder structure\n",
    "\n",
    "run:\n",
    "- volume1.py\n",
    "- volume2.py\n",
    "- result.py\n",
    "'''"
   ]
  },
  {
   "cell_type": "markdown",
   "metadata": {},
   "source": [
    "### Question 9:\n",
    "\n",
    "We have a bag of 9 balls, which has a discrete number from 1 to 9 marked on each of them. But when we take out all the balls from the bag, few of them are missing. Given below is the list of balls that are present.\n",
    "\n",
    "myList = [1, 2, 3, 5, 6, 7, 9]\n",
    "\n",
    "Write a python function to find the missing balls.\n",
    "\n",
    "#### Expected Output:\n",
    "\n",
    "[4, 8]"
   ]
  },
  {
   "cell_type": "code",
   "execution_count": 2,
   "metadata": {},
   "outputs": [
    {
     "name": "stdout",
     "output_type": "stream",
     "text": [
      "[4, 8]\n"
     ]
    }
   ],
   "source": [
    "myList = [1, 2, 3, 5, 6, 7, 9]\n",
    "\n",
    "def find_missing_balls(myList):\n",
    "    all_balls = set(range(1, 10))\n",
    "    present_balls  = set(myList)\n",
    "    missing_balls = list(all_balls - present_balls)\n",
    "    return sorted(missing_balls)\n",
    "\n",
    "missing_balls = find_missing_balls(myList)\n",
    "print(missing_balls)"
   ]
  },
  {
   "cell_type": "markdown",
   "metadata": {},
   "source": [
    "### Question 10:\n",
    "\n",
    "Create a class Fan which is initialized with its brand. The class contains two instance methods for switching on the fan with speed five and switching off the fan with speed 0. Create another method to show the current status of the fan.\n",
    "\n",
    "#### Sample Input:\n",
    "\n",
    "Brand = MONTE CARLO\n",
    "<br>Scene - 1: Switch-on the fan and show the status\n",
    "<br>Scene - 2: Switch-off the fan and show the status\n",
    "\n",
    "#### Expected Output:\n",
    "\n",
    "The fan manufactured by MONTE CARLO is currently Running with a speed of 5\n",
    "<br>The fan manufactured by MONTE CARLO is currently Idle with a speed of 0"
   ]
  },
  {
   "cell_type": "code",
   "execution_count": 3,
   "metadata": {},
   "outputs": [
    {
     "name": "stdout",
     "output_type": "stream",
     "text": [
      "The fan manufactured by MONTE CARLO is currently Running with a speed of 5\n",
      "The fan manufactured by MONTE CARLO is currently Idle with a speed of 0\n"
     ]
    }
   ],
   "source": [
    "class Fan:\n",
    "    def __init__(self, brand):\n",
    "        self.brand = brand\n",
    "        self.speed = 0\n",
    "        \n",
    "    def switch_on(self):\n",
    "        self.speed = 5\n",
    "        \n",
    "    def switch_off(self):\n",
    "        self.speed = 0\n",
    "        \n",
    "    def show_status(self):\n",
    "        if self.speed > 0:\n",
    "            status = f\"Running with a speed of {self.speed}\"\n",
    "        else:\n",
    "            status = \"Idle with a speed of 0\"\n",
    "        return f\"The fan manufactured by {self.brand} is currently {status}\"\n",
    "\n",
    "# demonstration\n",
    "fan = Fan(\"MONTE CARLO\")\n",
    "\n",
    "# 1 - switch-on fan \n",
    "fan.switch_on()\n",
    "print(fan.show_status())\n",
    "\n",
    "# 2 - switch-off fan\n",
    "fan.switch_off()\n",
    "print(fan.show_status())"
   ]
  }
 ],
 "metadata": {
  "kernelspec": {
   "display_name": "base",
   "language": "python",
   "name": "python3"
  },
  "language_info": {
   "codemirror_mode": {
    "name": "ipython",
    "version": 3
   },
   "file_extension": ".py",
   "mimetype": "text/x-python",
   "name": "python",
   "nbconvert_exporter": "python",
   "pygments_lexer": "ipython3",
   "version": "3.12.7"
  }
 },
 "nbformat": 4,
 "nbformat_minor": 4
}
