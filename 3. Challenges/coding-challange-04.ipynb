{
 "cells": [
  {
   "cell_type": "markdown",
   "metadata": {},
   "source": [
    "# Coding Challange - 04"
   ]
  },
  {
   "cell_type": "markdown",
   "metadata": {},
   "source": [
    "### Question 1:\n",
    "\n",
    "Write a python class Pet that is initialized with the name and species of the pet. It contains an instance method to display the info on the screen. Define two other classes Dog and Cat. Call the instance method of Pet class using the Dog and Cat objects.\n",
    "\n",
    "#### Expected Output:\n",
    "\n",
    "Name: Kitty\n",
    "<br>Species: Persian Cat\n",
    "\n",
    "Name: Bruno\n",
    "<br>Species: German Shepherd"
   ]
  },
  {
   "cell_type": "code",
   "execution_count": 1,
   "metadata": {},
   "outputs": [
    {
     "name": "stdout",
     "output_type": "stream",
     "text": [
      "Name: Kitty\n",
      "Species: Persian Cat\n",
      "\n",
      "Name: Bruno\n",
      "Species: German Shepherd\n"
     ]
    }
   ],
   "source": [
    "class Pet:\n",
    "    def __init__(self, name, species):\n",
    "        self.name = name\n",
    "        self.species = species\n",
    "        \n",
    "    def display_info(self):\n",
    "        print(f\"Name: {self.name}\")\n",
    "        print(f\"Species: {self.species}\")\n",
    "                \n",
    "class Dog(Pet):\n",
    "    pass\n",
    "\n",
    "class Cat(Pet):\n",
    "    pass\n",
    "\n",
    "\n",
    "cat = Cat(\"Kitty\", \"Persian Cat\")\n",
    "dog = Dog(\"Bruno\", \"German Shepherd\")\n",
    "\n",
    "cat.display_info()\n",
    "print()\n",
    "dog.display_info()"
   ]
  },
  {
   "cell_type": "markdown",
   "metadata": {},
   "source": [
    "### Question 2:\n",
    "\n",
    "Write a python function pattern to print a pattern using '0' such that its base and height contain an equal number of '0.'\n",
    "\n",
    "#### Sample Input:\n",
    "\n",
    "5\n",
    "\n",
    "#### Expected Output:\n",
    "\n",
    "   0\n",
    "   <br>00\n",
    "  <br>000\n",
    " <br>0000\n",
    "<br>00000"
   ]
  },
  {
   "cell_type": "code",
   "execution_count": 3,
   "metadata": {},
   "outputs": [
    {
     "name": "stdout",
     "output_type": "stream",
     "text": [
      "0\n",
      "00\n",
      "000\n",
      "0000\n",
      "00000\n"
     ]
    }
   ],
   "source": [
    "def pattern(n):\n",
    "    for i in range(1, n + 1):\n",
    "        print(\"0\" * i)\n",
    "        \n",
    "pattern(5)"
   ]
  },
  {
   "cell_type": "markdown",
   "metadata": {},
   "source": [
    "### Question 3:\n",
    "\n",
    "Create a class with two methods, the first one to get the input string from the user, and the second one print the odd indexed letters from the input string.\n",
    "\n",
    "#### Expected Output:\n",
    "\n",
    "Enter a string: Learning Journal\n",
    "<br>erigJunl"
   ]
  },
  {
   "cell_type": "code",
   "execution_count": 4,
   "metadata": {},
   "outputs": [
    {
     "name": "stdout",
     "output_type": "stream",
     "text": [
      "erigJunl\n"
     ]
    }
   ],
   "source": [
    "class StringProcessor:\n",
    "    def __init__(self):\n",
    "        self.input_string = \"\"\n",
    "        \n",
    "    def get_input(self):\n",
    "        self.input_string = input(\"Enter a string: \")\n",
    "        \n",
    "    def print_odd_indexed_letters(self):\n",
    "        odd_letters = self.input_string[1::2]\n",
    "        print(odd_letters)\n",
    "        \n",
    "processor = StringProcessor()\n",
    "processor.get_input()\n",
    "processor.print_odd_indexed_letters()"
   ]
  },
  {
   "cell_type": "markdown",
   "metadata": {},
   "source": [
    "### Question 4:\n",
    "\n",
    "Write a lambda function to find the palindromes from the list given below.\n",
    "\n",
    "words_list = [\"refer\", \"python\", \"level\", \"join\", \"notebook\", \"dad\"]\n",
    "\n",
    "#### Expected Output:\n",
    "\n",
    "Palindromes:  ['refer', 'level', 'dad']"
   ]
  },
  {
   "cell_type": "code",
   "execution_count": 5,
   "metadata": {},
   "outputs": [
    {
     "name": "stdout",
     "output_type": "stream",
     "text": [
      "Palindromes:  ['refer', 'level', 'dad']\n"
     ]
    }
   ],
   "source": [
    "words_list = [\"refer\", \"python\", \"level\", \"join\", \"notebook\", \"dad\"]\n",
    "\n",
    "is_palindrome = lambda word: word == word[::-1]\n",
    "palindromes = list(filter(is_palindrome, words_list))\n",
    "print(\"Palindromes: \", palindromes)"
   ]
  },
  {
   "cell_type": "markdown",
   "metadata": {},
   "source": [
    "### Question 5:\n",
    "\n",
    "Write a python class Date with an instance method get_date to print the date. Define another class, Time, which again contains an instance method get_time to print the time given below. Call both the classes using the object of Time class.\n",
    "\n",
    "Time: 10:30:00\n",
    "<br>Date: 2020-02-25\n",
    "\n",
    "#### Expected Output:\n",
    "\n",
    "10:30:00\n",
    "<br>2020-02-25"
   ]
  },
  {
   "cell_type": "code",
   "execution_count": 6,
   "metadata": {},
   "outputs": [
    {
     "name": "stdout",
     "output_type": "stream",
     "text": [
      "10:30:00\n",
      "2020-02-25\n"
     ]
    }
   ],
   "source": [
    "class Date:\n",
    "    def __init__(self, date):\n",
    "        self.date = date\n",
    "        \n",
    "    def get_date(self):\n",
    "        print(self.date)\n",
    "        \n",
    "class Time(Date):\n",
    "    def __init__(self, date, time):\n",
    "        super().__init__(date)\n",
    "        self.time = time\n",
    "        \n",
    "    def get_time(self):\n",
    "        print(self.time)\n",
    "        \n",
    "        \n",
    "time_object = Time(\"2020-02-25\", \"10:30:00\")\n",
    "time_object.get_time()\n",
    "time_object.get_date()"
   ]
  },
  {
   "cell_type": "markdown",
   "metadata": {},
   "source": [
    "### Question 6:\n",
    "\n",
    "Create two modules student.py and merit.py. The student.py module should contain a Student class that is initialized with name and roll number. It should also contain an instance method getMarks, which contains an argument to get the number of subjects. The getMarks function should ask the user to enter the marks of the student. The merit.py module should contain an instance method to check if the student's average marks are above 90. If it is above 90, give him/her the merit. Otherwise, print 'not eligible.' Print the message along with the student's name and roll number.\n",
    "\n",
    "#### Expected Output:\n",
    "\n",
    "Enter the name of the Student: David\n",
    "<br>Enter the roll number of the Student: 23\n",
    "<br>Enter the number of Subjects: 3\n",
    "<br>Enter marks1: 96\n",
    "<br>Enter marks2: 85\n",
    "<br>Enter marks3: 82\n",
    "<br>David with Roll No: 23, is not eligible."
   ]
  },
  {
   "cell_type": "code",
   "execution_count": null,
   "metadata": {},
   "outputs": [],
   "source": [
    "''' \n",
    "check folder structure for files\n",
    "- student.py\n",
    "- merit.py\n",
    "- main.py\n",
    "\n",
    "run main.py to test\n",
    "'''"
   ]
  },
  {
   "cell_type": "markdown",
   "metadata": {},
   "source": [
    "### Question 7:\n",
    "\n",
    "We have a dictionary of OTT Platforms, and its index is given below. Take the subscription of all the even indexed OTT platforms from 1 to 10. Since our dictionary is not updated, we have only five platforms, so using a try-except block of code handle exceptions and print the message 'Key Out of Bound. Update the list.' However, print a message 'Take these subscriptions' for the platforms mentioned in the output.\n",
    "\n",
    "my_dict = {1 : 'HBO Max', 2 : 'Netflix', 3 : 'Prime Video', 4 : 'Hotstar + Disney', 5 : 'Hulu TV'}\n",
    "\n",
    "#### Expected Output:\n",
    "\n",
    "Netflix\n",
    "<br>Hotstar + Disney\n",
    "<br>Key Out of Bound. Update the list.\n",
    "<br>Take these subscriptions."
   ]
  },
  {
   "cell_type": "code",
   "execution_count": 7,
   "metadata": {},
   "outputs": [
    {
     "name": "stdout",
     "output_type": "stream",
     "text": [
      "Netflix\n",
      "Hotstar + Disney\n",
      "Key Out of Bound. Update the list.\n",
      "Take these subscriptions.\n"
     ]
    }
   ],
   "source": [
    "my_dict = {1 : 'HBO Max', 2 : 'Netflix', 3 : 'Prime Video', 4 : 'Hotstar + Disney', 5 : 'Hulu TV'}\n",
    "\n",
    "def take_even_index_subscriptions(ott_dict, max_index):\n",
    "    try:\n",
    "        for i in range(2, max_index + 1, 2):\n",
    "            print(ott_dict[i])\n",
    "    except KeyError:\n",
    "        print(\"Key Out of Bound. Update the list.\")\n",
    "    finally:\n",
    "        print(\"Take these subscriptions.\")\n",
    "        \n",
    "take_even_index_subscriptions(my_dict, 10)"
   ]
  },
  {
   "cell_type": "markdown",
   "metadata": {},
   "source": [
    "### Question 8:\n",
    "\n",
    "Write a python function to add the digits of a positive integer repeatedly until you get the result as a single digit.\n",
    "\n",
    "#### Expected Output:\n",
    "\n",
    "Enter a number:98\n",
    "<br>8"
   ]
  },
  {
   "cell_type": "code",
   "execution_count": 8,
   "metadata": {},
   "outputs": [
    {
     "name": "stdout",
     "output_type": "stream",
     "text": [
      "8\n"
     ]
    }
   ],
   "source": [
    "def add_digits_until_single(num):\n",
    "    while num >= 10:\n",
    "        num = sum(int(digit) for digit in str(num))\n",
    "    return num\n",
    "\n",
    "number = int(input(\"Enter a number: \"))\n",
    "result = add_digits_until_single(number)\n",
    "\n",
    "print(result)"
   ]
  },
  {
   "cell_type": "markdown",
   "metadata": {},
   "source": [
    "### Question 9:\n",
    "\n",
    "Write a python program to print the factorial of a number.\n",
    "\n",
    "#### Expected Output:\n",
    "\n",
    "Enter a number: 5\n",
    "<br>120"
   ]
  },
  {
   "cell_type": "code",
   "execution_count": 9,
   "metadata": {},
   "outputs": [
    {
     "name": "stdout",
     "output_type": "stream",
     "text": [
      "120\n"
     ]
    }
   ],
   "source": [
    "def factorial(n):\n",
    "    if n == 0 or n == 1:\n",
    "        return 1\n",
    "    else:\n",
    "        return n * factorial(n - 1)\n",
    "    \n",
    "number = int(input(\"Enter a number: \"))\n",
    "result = factorial(number)\n",
    "print(result)"
   ]
  },
  {
   "cell_type": "markdown",
   "metadata": {},
   "source": [
    "### Question 10:\n",
    "\n",
    "Write a python function to print the longest string between the two strings given below.\n",
    "\n",
    "first_str = 'Learning'\n",
    "<br>second_str = 'Journal'\n",
    "\n",
    "#### Expected Output:\n",
    "\n",
    "Learning"
   ]
  },
  {
   "cell_type": "code",
   "execution_count": 11,
   "metadata": {},
   "outputs": [
    {
     "name": "stdout",
     "output_type": "stream",
     "text": [
      "Learning\n"
     ]
    }
   ],
   "source": [
    "def print_longest_string(first_str, second_str):\n",
    "    if len(first_str) > len(second_str):\n",
    "        print(first_str)\n",
    "    elif len(second_str) > len(first_str):\n",
    "        print(second_str)\n",
    "    else:\n",
    "        print(\"Both strings are of equal length.\")\n",
    "\n",
    "first_str = 'Learning'\n",
    "second_str = 'Journal'\n",
    "\n",
    "print_longest_string(first_str, second_str)\n"
   ]
  }
 ],
 "metadata": {
  "kernelspec": {
   "display_name": "base",
   "language": "python",
   "name": "python3"
  },
  "language_info": {
   "codemirror_mode": {
    "name": "ipython",
    "version": 3
   },
   "file_extension": ".py",
   "mimetype": "text/x-python",
   "name": "python",
   "nbconvert_exporter": "python",
   "pygments_lexer": "ipython3",
   "version": "3.12.7"
  }
 },
 "nbformat": 4,
 "nbformat_minor": 4
}
