{
 "cells": [
  {
   "cell_type": "markdown",
   "metadata": {},
   "source": [
    "# Coding Challange - 06"
   ]
  },
  {
   "cell_type": "markdown",
   "metadata": {},
   "source": [
    "### Question 1:\n",
    "\n",
    "Write a python class Person that is initialized with age. Create two more classes, Male and Female, that are inherited from the Person class. The two-child classes should contain an instance method marriage(), which returns if the Person can marry or not depending upon the age.\n",
    "\n",
    "Take marriage age for Male as 21 years and Female as 18 years. \n",
    "\n",
    "#### Sample Input:\n",
    "\n",
    "Male - 16\n",
    "<br>Female - 24\n",
    "\n",
    "#### Expected Output:\n",
    "\n",
    "Cannot Marry\n",
    "<br>Can Marry"
   ]
  },
  {
   "cell_type": "code",
   "execution_count": 1,
   "metadata": {},
   "outputs": [
    {
     "name": "stdout",
     "output_type": "stream",
     "text": [
      "Cannot Marry\n",
      "Can Marry\n"
     ]
    }
   ],
   "source": [
    "class Person:\n",
    "    def __init__(self, age):\n",
    "        self.age = age\n",
    "        \n",
    "class Male(Person):\n",
    "    def marriage(self):\n",
    "        if self.age >= 21:\n",
    "            return \"Can Marry\"\n",
    "        else:\n",
    "            return \"Cannot Marry\"\n",
    "        \n",
    "class Female(Person):\n",
    "    def marriage(self):\n",
    "        if self.age >= 18:\n",
    "            return \"Can Marry\"\n",
    "        else:\n",
    "            return \"Cannot Marry\"\n",
    "        \n",
    "# male instance\n",
    "male_person = Male(16)\n",
    "print(male_person.marriage())\n",
    "\n",
    "# female instance\n",
    "female_person = Female(24)\n",
    "print(female_person.marriage())"
   ]
  },
  {
   "cell_type": "markdown",
   "metadata": {},
   "source": [
    "### Question 2:\n",
    "\n",
    "You are given a task to put a number tag on the books on a bookshelf. Each of the n numbers of books should have a number from 1 to n, and different books should have different numbers. Write a python function to calculate the number of digits required for numbering all those tags.\n",
    "\n",
    "\n",
    "#### Expected Output:\n",
    "\n",
    "Enter the number of books:95\n",
    "<br>181"
   ]
  },
  {
   "cell_type": "code",
   "execution_count": 2,
   "metadata": {},
   "outputs": [
    {
     "name": "stdout",
     "output_type": "stream",
     "text": [
      "181\n"
     ]
    }
   ],
   "source": [
    "def calculate_total_digits(n):\n",
    "    total_digits = 0\n",
    "    digital_length = 1\n",
    "    current = 1\n",
    "    \n",
    "    while current <= n:\n",
    "        upper_limit = min(n, current * 10 - 1)\n",
    "        count_in_range = upper_limit - current + 1\n",
    "        total_digits += count_in_range * digital_length\n",
    "        digital_length += 1\n",
    "        current *= 10\n",
    "        \n",
    "    return total_digits\n",
    "\n",
    "n = int(input(\"Enter the number of books: \"))\n",
    "print(calculate_total_digits(n))"
   ]
  },
  {
   "cell_type": "markdown",
   "metadata": {},
   "source": [
    "### Question 3:\n",
    "\n",
    "Write a python program to get the difference between a number and the reverse of that number. Print the difference as a positive integer.\n",
    "\n",
    "#### Sample Input:\n",
    "\n",
    "num = 86\n",
    "\n",
    "#### Expected Output:\n",
    "\n",
    "18"
   ]
  },
  {
   "cell_type": "code",
   "execution_count": 4,
   "metadata": {},
   "outputs": [
    {
     "name": "stdout",
     "output_type": "stream",
     "text": [
      "18\n"
     ]
    }
   ],
   "source": [
    "def difference_with_reverse(num):\n",
    "    reversed_num = int(str(num)[::-1])\n",
    "    difference = abs(num - reversed_num)\n",
    "    return difference\n",
    "\n",
    "num = 86\n",
    "print(difference_with_reverse(num))"
   ]
  },
  {
   "cell_type": "markdown",
   "metadata": {},
   "source": [
    "### Question 4:\n",
    "\n",
    "Write a python function to print the time given below into military time(24 Hours) format.\n",
    "\n",
    "10:20:45PM\n",
    "\n",
    "#### Expected Output:\n",
    "\n",
    "'22:20:45'"
   ]
  },
  {
   "cell_type": "code",
   "execution_count": 5,
   "metadata": {},
   "outputs": [
    {
     "name": "stdout",
     "output_type": "stream",
     "text": [
      "22:20:45\n"
     ]
    }
   ],
   "source": [
    "def convert_to_military_time(time_str):\n",
    "    from datetime import datetime\n",
    "    time_obj = datetime.strptime(time_str, \"%I:%M:%S%p\")\n",
    "    military_time = time_obj.strftime(\"%H:%M:%S\")\n",
    "    return military_time\n",
    "\n",
    "time_str = \"10:20:45PM\"\n",
    "print(convert_to_military_time(time_str))"
   ]
  },
  {
   "cell_type": "markdown",
   "metadata": {},
   "source": [
    "### Question 5:\n",
    "\n",
    "Using user-defined exception, write a python program to guess the number entered in the code until you get the correct answer.\n",
    "\n",
    "#### Expected Output:\n",
    "\n",
    "Enter a number greater than 0: 12\n",
    "<br>Less than the desired number, please try again!\n",
    "\n",
    "Enter a number greater than 0: 18\n",
    "<br>Greater than the desired number, try again!\n",
    "\n",
    "Enter a number greater than 0: 15\n",
    "<br>BINGO! That's the number."
   ]
  },
  {
   "cell_type": "code",
   "execution_count": 6,
   "metadata": {},
   "outputs": [
    {
     "name": "stdout",
     "output_type": "stream",
     "text": [
      "Less than the desired number, please try again!\n",
      "Greater than the desired number, try again!\n",
      "BINGO! That's the number.\n"
     ]
    }
   ],
   "source": [
    "class GuessError(Exception):\n",
    "    pass\n",
    "\n",
    "def guess_the_number():\n",
    "    desired_number = 15\n",
    "    while True:\n",
    "        try:\n",
    "            user_input = int(input(\"Enter a number greater than 0: \"))\n",
    "            if user_input <- 0:\n",
    "                raise GuessError(\"Number must be greater than 0.\")\n",
    "            \n",
    "            if user_input < desired_number:\n",
    "                print(\"Less than the desired number, please try again!\")\n",
    "            elif user_input > desired_number:\n",
    "                print(\"Greater than the desired number, try again!\")\n",
    "            else:\n",
    "                print(\"BINGO! That's the number.\")\n",
    "                break\n",
    "        except GuessError as e:\n",
    "            print(f\"Error: {e}\")\n",
    "        except ValueError:\n",
    "            print(\"Invalid input. Please enter a valid integer.\")\n",
    "            \n",
    "guess_the_number()"
   ]
  },
  {
   "cell_type": "markdown",
   "metadata": {},
   "source": [
    "### Question 6:\n",
    "\n",
    "Write a python function to find the minimum and maximum values calculated by summing precisely four of the five integers from the list given below.\n",
    "\n",
    "myList = [1, 3, 5, 7, 9]\n",
    "\n",
    "\n",
    "#### Expected Output:\n",
    "\n",
    "Minimum:  16\n",
    "<br>Maximum:  24"
   ]
  },
  {
   "cell_type": "code",
   "execution_count": 7,
   "metadata": {},
   "outputs": [
    {
     "name": "stdout",
     "output_type": "stream",
     "text": [
      "Minimum: 16\n",
      "Maximum: 24\n"
     ]
    }
   ],
   "source": [
    "def find_min_max(myList):\n",
    "    myList.sort()\n",
    "    min_sum = sum(myList[:4])\n",
    "    max_sum = sum(myList[-4:])\n",
    "    return min_sum, max_sum\n",
    "\n",
    "myList = [1, 3, 5, 7, 9]\n",
    "min_sum, max_sum = find_min_max(myList)\n",
    "print(f\"Minimum: {min_sum}\")\n",
    "print(f\"Maximum: {max_sum}\")"
   ]
  },
  {
   "cell_type": "markdown",
   "metadata": {},
   "source": [
    "### Question 7:\n",
    "\n",
    "We have a list of numbers given below. Write a python function to ask the user to input a number from the list. Then, push that number towards the end of the list. If the entered number is not present in the list, print the old list.\n",
    "\n",
    "num_list = [0, 2, 4, 5, 6, 2, 3]\n",
    "\n",
    "#### Expected Output:\n",
    "\n",
    "Enter the number to be moved: 2\n",
    "<br>[0, 4, 5, 6, 3, 2, 2]"
   ]
  },
  {
   "cell_type": "code",
   "execution_count": 11,
   "metadata": {},
   "outputs": [
    {
     "name": "stdout",
     "output_type": "stream",
     "text": [
      "[0, 4, 5, 6, 3, 2, 2]\n"
     ]
    }
   ],
   "source": [
    "def move_number_to_end(num_list):\n",
    "    num = int(input(\"Enter the number to be moved: \"))\n",
    "    \n",
    "    if num in num_list:\n",
    "        filtered_list = [x for x in num_list if x != num]\n",
    "        num_count = num_list.count(num)\n",
    "        updated_list = filtered_list + [num] * num_count\n",
    "        print(updated_list)\n",
    "    else:\n",
    "        print(num_list)\n",
    "\n",
    "num_list = [0, 2, 4, 5, 6, 2, 3]\n",
    "move_number_to_end(num_list)"
   ]
  },
  {
   "cell_type": "markdown",
   "metadata": {},
   "source": [
    "### Question 8:\n",
    "\n",
    "Write a python program to check if the number is divisible by its digits.\n",
    "\n",
    "\n",
    "#### Expected Output:\n",
    "\n",
    "Enter a number: 48\n",
    "<br>Yes"
   ]
  },
  {
   "cell_type": "code",
   "execution_count": 12,
   "metadata": {},
   "outputs": [
    {
     "name": "stdout",
     "output_type": "stream",
     "text": [
      "Yes\n"
     ]
    }
   ],
   "source": [
    "def is_divisible_by_digits(number):\n",
    "    for digit in str(number):\n",
    "        digit_int = int(digit)\n",
    "        if digit_int == 0 or number % digit_int != 0:\n",
    "            return \"No\"\n",
    "    return \"Yes\"\n",
    "\n",
    "number = int(input(\"Enter a number: \"))\n",
    "print(is_divisible_by_digits(number))"
   ]
  },
  {
   "cell_type": "markdown",
   "metadata": {},
   "source": [
    "### Question 9:\n",
    "\n",
    "Write a python function to evaluate the grade ranging from 0 to 100 in an examination. The student fails the exam if the grade is less than 40. But we like to round off grades above 40 based on the following criteria.\n",
    "If the difference between the grade and the next multiple of 5 is less than 3, round grade up to the next multiple of 5.\n",
    "\n",
    "#### Expected Output:\n",
    "\n",
    "Enter the number of subjects:4\n",
    "<br>Marks of Subjects 1:36\n",
    "<br>Marks of Subjects 2:48\n",
    "<br>Marks of Subjects 3:73\n",
    "<br>Marks of Subjects 4:66\n",
    "<br>Resultant Grade:  [36, 50, 75, 66]"
   ]
  },
  {
   "cell_type": "code",
   "execution_count": 13,
   "metadata": {},
   "outputs": [
    {
     "name": "stdout",
     "output_type": "stream",
     "text": [
      "Resultant Grade:  [36, 50, 75, 66]\n"
     ]
    }
   ],
   "source": [
    "def round_grade(grade):\n",
    "    if grade < 48:\n",
    "        return grade\n",
    "    \n",
    "    next_multiple_of_5 = (grade + 4) // 5 * 5\n",
    "    if next_multiple_of_5 - grade < 3:\n",
    "        return next_multiple_of_5\n",
    "    return grade\n",
    "\n",
    "def evaluate_grades():\n",
    "    num_subjects = int(input(\"Enter the number of subjects: \"))\n",
    "    grades = []\n",
    "    \n",
    "    for i in range(num_subjects):\n",
    "        grade = int(input(f\"Marks of Subjects {i + 1}: \"))\n",
    "        grades.append(round_grade(grade))\n",
    "        \n",
    "    print(\"Resultant Grade: \", grades)\n",
    "    \n",
    "evaluate_grades()"
   ]
  },
  {
   "cell_type": "markdown",
   "metadata": {},
   "source": [
    "### Question 10:\n",
    "\n",
    "Write a python function grow_more to get a sapling height, which increases by one unit in March and by two units in August in a year. The argument of the function takes the number of growth cycles the sapling goes through. Consider the sapling is planted in January.\n",
    "\n",
    "#### Sample Input:\n",
    "\n",
    "7\n",
    "\n",
    "#### Expected Output:\n",
    "\n",
    "30\n",
    "\n",
    "#### Explanation:\n",
    "\n",
    "At 0 --> 1\n",
    "<br>At 1 --> 2\n",
    "<br>At 2 --> 3\n",
    "<br>At 3 --> 6\n",
    "<br>At 4 --> 7\n",
    "<br>At 5 --> 14\n",
    "<br>At 6 --> 15\n",
    "<br>At 7 --> 30"
   ]
  },
  {
   "cell_type": "code",
   "execution_count": 20,
   "metadata": {},
   "outputs": [
    {
     "name": "stdout",
     "output_type": "stream",
     "text": [
      "30\n"
     ]
    }
   ],
   "source": [
    "def grow_more(cycles):\n",
    "    height = 1\n",
    "    for cycle in range(cycles + 1):\n",
    "        if cycle % 2 == 1:\n",
    "            height *= 2\n",
    "        elif cycle % 2 == 0 and cycle != 0:\n",
    "            height += 1\n",
    "    return height\n",
    "\n",
    "cycles = int(input(\"Enter the number of growth cycles: \"))\n",
    "print(grow_more(cycles))"
   ]
  }
 ],
 "metadata": {
  "kernelspec": {
   "display_name": "base",
   "language": "python",
   "name": "python3"
  },
  "language_info": {
   "codemirror_mode": {
    "name": "ipython",
    "version": 3
   },
   "file_extension": ".py",
   "mimetype": "text/x-python",
   "name": "python",
   "nbconvert_exporter": "python",
   "pygments_lexer": "ipython3",
   "version": "3.12.7"
  }
 },
 "nbformat": 4,
 "nbformat_minor": 4
}
