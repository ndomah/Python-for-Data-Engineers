{
 "cells": [
  {
   "cell_type": "markdown",
   "metadata": {},
   "source": [
    "# Coding Challange - 03"
   ]
  },
  {
   "cell_type": "markdown",
   "metadata": {},
   "source": [
    "### Question 1:\n",
    "\n",
    "We have two lists given below. I want you to print the first list in the original order and the second list in reverse order simultaneously.\n",
    "\n",
    "list_1 = [12, 25, 31, 20, 18]\n",
    "<br>list_2 = [11, 9, 43, 22, 55]\n",
    "\n",
    "#### Expected Output:\n",
    "\n",
    "12 55\n",
    "<br>25 22\n",
    "<br>31 43\n",
    "<br>20 9\n",
    "<br>18 11"
   ]
  },
  {
   "cell_type": "code",
   "execution_count": 2,
   "metadata": {},
   "outputs": [
    {
     "name": "stdout",
     "output_type": "stream",
     "text": [
      "12 55\n",
      "25 22\n",
      "31 43\n",
      "20 9\n",
      "18 11\n"
     ]
    }
   ],
   "source": [
    "list_1 = [12, 25, 31, 20, 18]\n",
    "list_2 = [11, 9, 43, 22, 55]\n",
    "\n",
    "for a, b in zip(list_1, list_2[::-1]):\n",
    "    print(a, b)"
   ]
  },
  {
   "cell_type": "markdown",
   "metadata": {},
   "source": [
    "### Question 2:\n",
    "\n",
    "Print today's date in the format given below.\n",
    "\n",
    "Day_name  Day_number  Month_name  Year\n",
    "\n",
    "#### Expected Output:\n",
    "\n",
    "Today's date is:  Tuesday 13 October 2020"
   ]
  },
  {
   "cell_type": "code",
   "execution_count": 3,
   "metadata": {},
   "outputs": [
    {
     "name": "stdout",
     "output_type": "stream",
     "text": [
      "Today's date is:  Sunday 12 January 2025\n"
     ]
    }
   ],
   "source": [
    "from datetime import datetime\n",
    "\n",
    "today = datetime.now()\n",
    "formatted_date = today.strftime(\"%A %d %B %Y\")\n",
    "print(\"Today's date is: \", formatted_date)"
   ]
  },
  {
   "cell_type": "markdown",
   "metadata": {},
   "source": [
    "### Question 3:\n",
    "\n",
    "We have a string which contains grocery items. Print these items in a comma-separated sequence after sorting them alphabetically.\n",
    "\n",
    "grocery_items = ' Grated Cheese, Coffee Powder, Pickles\\\n",
    " White Chocolate, Dark Chocolate, Eggs, Breads, Milk,\\\n",
    " Sugar, Salt, Cat Food, Fries'\n",
    "\n",
    "#### Expected Output:\n",
    "\n",
    "Breads, Cat Food, Coffee Powder, Dark Chocolate, Eggs, Fries, Grated Cheese, Milk, Pickles White Chocolate, Salt, Sugar"
   ]
  },
  {
   "cell_type": "code",
   "execution_count": 4,
   "metadata": {},
   "outputs": [
    {
     "name": "stdout",
     "output_type": "stream",
     "text": [
      "Breads, Cat Food, Coffee Powder, Dark Chocolate, Eggs, Fries, Grated Cheese, Milk, PicklesWhite Chocolate, Salt, Sugar\n"
     ]
    }
   ],
   "source": [
    "grocery_items = ' Grated Cheese, Coffee Powder, Pickles\\\n",
    "White Chocolate, Dark Chocolate, Eggs, Breads, Milk,\\\n",
    "Sugar, Salt, Cat Food, Fries'\n",
    "\n",
    "items_list = [item.strip() for item in grocery_items.split(\",\")]\n",
    "sorted_items = sorted(items_list)\n",
    "sorted_grocery_items = \", \".join(sorted_items)\n",
    "print(sorted_grocery_items)"
   ]
  },
  {
   "cell_type": "markdown",
   "metadata": {},
   "source": [
    "### Question 4:\n",
    "\n",
    "Write a Python program to print the dates of yesterday, today, and tomorrow.\n",
    "\n",
    "#### Expected Output:\n",
    "\n",
    "Yesterday :  2020-10-12\n",
    "<br>Today :  2020-10-13\n",
    "<br>Tomorrow :  2020-10-14"
   ]
  },
  {
   "cell_type": "code",
   "execution_count": 6,
   "metadata": {},
   "outputs": [
    {
     "name": "stdout",
     "output_type": "stream",
     "text": [
      "Yesterday: 2025-01-11\n",
      "Today: 2025-01-12\n",
      "tomorrow: 2025-01-13\n"
     ]
    }
   ],
   "source": [
    "from datetime import datetime, timedelta \n",
    "\n",
    "today = datetime.now().date()\n",
    "yesterday = today - timedelta(days=1)\n",
    "tomorrow = today + timedelta(days=1)\n",
    "\n",
    "print(f\"Yesterday: {yesterday}\")\n",
    "print(f\"Today: {today}\")\n",
    "print(f\"tomorrow: {tomorrow}\")"
   ]
  },
  {
   "cell_type": "markdown",
   "metadata": {},
   "source": [
    "### Question 5:\n",
    "\n",
    "We have a set that contains roll numbers of candidates who have applied for an event. Out of the applied candidates, few have submitted their application forms, and we have registered their details in a dictionary given below. Print the roll numbers of the candidates who have submitted their application forms and also the ones who are yet to submit it.\n",
    "\n",
    "roll_numbers = {12, 7, 15, 23, 32, 30}\n",
    "<br>student_details = {12:'Judy', 30:'Shane', 23:'Aaron'}\n",
    "\n",
    "#### Expected Output:\n",
    "\n",
    "Completed Applications:  {12, 30, 23}\n",
    "<br>Pending Applications:  {32, 15, 7}"
   ]
  },
  {
   "cell_type": "code",
   "execution_count": 7,
   "metadata": {},
   "outputs": [
    {
     "name": "stdout",
     "output_type": "stream",
     "text": [
      "Completed Applications: {12, 30, 23}\n",
      "Pending Applications: {32, 15, 7}\n"
     ]
    }
   ],
   "source": [
    "roll_numbers = {12, 7, 15, 23, 32, 30}\n",
    "student_details = {12:'Judy', 30:'Shane', 23:'Aaron'}\n",
    "\n",
    "completed_applications = set(student_details.keys())\n",
    "pending_applications = roll_numbers - completed_applications\n",
    "print(f\"Completed Applications: {completed_applications}\")\n",
    "print(f\"Pending Applications: {pending_applications}\")"
   ]
  },
  {
   "cell_type": "markdown",
   "metadata": {},
   "source": [
    "### Question 6:\n",
    "\n",
    "We have the time in seconds given below. Convert this time into days, hours, minutes, and seconds.\n",
    "\n",
    "time = 996452\n",
    "\n",
    "#### Expected Output:\n",
    "\n",
    "Days : Hours : Minutes : Seconds -> 11 : 12 : 47 : 32"
   ]
  },
  {
   "cell_type": "code",
   "execution_count": 8,
   "metadata": {},
   "outputs": [
    {
     "name": "stdout",
     "output_type": "stream",
     "text": [
      "Days : Hours : Minutes : Seconds -> 11 : 12 : 47 : 32\n"
     ]
    }
   ],
   "source": [
    "time = 996452\n",
    "\n",
    "days = time // (24 * 3600)\n",
    "remaining_seconds = time % (24 * 3600)\n",
    "hours = remaining_seconds // 3600\n",
    "remaining_seconds %= 3600\n",
    "minutes = remaining_seconds // 60\n",
    "seconds = remaining_seconds % 60\n",
    "\n",
    "print(f\"Days : Hours : Minutes : Seconds -> {days} : {hours} : {minutes} : {seconds}\")"
   ]
  },
  {
   "cell_type": "markdown",
   "metadata": {},
   "source": [
    "### Question 7:\n",
    "\n",
    "We have a list of companies with their face values in the stock market. Now, I want to get the company's name along with its face value for the company, which has the maximum and the minimum face values. I also want you all to sort this list based on face values in increasing order. In this example, you have the flexibility to go ahead and google for some hints.\n",
    "\n",
    "stock_market = {'AXIS BANK' : 7,\n",
    "               <br>&emsp;&emsp;&emsp;&emsp;&emsp;&emsp;&emsp;&nbsp;'BHARTI AIRTEL' : 5,\n",
    "               <br>&emsp;&emsp;&emsp;&emsp;&emsp;&emsp;&emsp;&nbsp;'COAL INDIA' : 10,\n",
    "               <br>&emsp;&emsp;&emsp;&emsp;&emsp;&emsp;&emsp;&nbsp;'ITC' : 1,\n",
    "               <br>&emsp;&emsp;&emsp;&emsp;&emsp;&emsp;&emsp;&nbsp;'TCS' : 3,\n",
    "               <br>&emsp;&emsp;&emsp;&emsp;&emsp;&emsp;&emsp;&nbsp;'L&T' : 2,\n",
    "               <br>&emsp;&emsp;&emsp;&emsp;&emsp;&emsp;&emsp;&nbsp;'RELIANCE' : 9,\n",
    "               <br>&emsp;&emsp;&emsp;&emsp;&emsp;&emsp;&emsp;&nbsp;'KOTAK BANK' : 8,\n",
    "               <br>&emsp;&emsp;&emsp;&emsp;&emsp;&emsp;&emsp;&nbsp;'AMERICAN EXPRESS' : 11}\n",
    "\n",
    "#### Expected Output:\n",
    "\n",
    "(1, 'ITC')\n",
    "<br>(11, 'AMERICAN EXPRESS')\n",
    "<br>[(1, 'ITC'), (2, 'L&T'), (3, 'TCS'), (5, 'BHARTI AIRTEL'), (7, 'AXIS BANK'), (8, 'KOTAK BANK'), (9, 'RELIANCE'), (10, 'COAL INDIA'), (11, 'AMERICAN EXPRESS')]"
   ]
  },
  {
   "cell_type": "code",
   "execution_count": 9,
   "metadata": {},
   "outputs": [
    {
     "name": "stdout",
     "output_type": "stream",
     "text": [
      "(1, 'ITC')\n",
      "(11, 'AMERICAN EXPRESS')\n",
      "[(1, 'ITC'), (2, 'L&T'), (3, 'TCS'), (5, 'BHARTI AIRTEL'), (7, 'AXIS BANK'), (8, 'KOTAK BANK'), (9, 'RELIANCE'), (10, 'COAL INDIA'), (11, 'AMERICAN EXPRESS')]\n"
     ]
    }
   ],
   "source": [
    "# Given dictionary of stock market face values\n",
    "stock_market = {\n",
    "    'AXIS BANK': 7,\n",
    "    'BHARTI AIRTEL': 5,\n",
    "    'COAL INDIA': 10,\n",
    "    'ITC': 1,\n",
    "    'TCS': 3,\n",
    "    'L&T': 2,\n",
    "    'RELIANCE': 9,\n",
    "    'KOTAK BANK': 8,\n",
    "    'AMERICAN EXPRESS': 11\n",
    "}\n",
    "\n",
    "# Find the company with the maximum face value\n",
    "max_face_value = max(stock_market.items(), key=lambda item: item[1])\n",
    "\n",
    "# Find the company with the minimum face value\n",
    "min_face_value = min(stock_market.items(), key=lambda item: item[1])\n",
    "\n",
    "# Sort the stock market data by face value in increasing order\n",
    "sorted_stock_market = sorted((value, name) for name, value in stock_market.items())\n",
    "\n",
    "# Print the results\n",
    "print(min_face_value[::-1])  # Reverse to match the desired format\n",
    "print(max_face_value[::-1])  # Reverse to match the desired format\n",
    "print(sorted_stock_market)"
   ]
  },
  {
   "cell_type": "markdown",
   "metadata": {},
   "source": [
    "### Question 8:\n",
    "\n",
    "Write a program to print all the numbers between 100 to 300 (both included) such that each digit of the given number is an even number.\n",
    "\n",
    "#### Expected Output:\n",
    "\n",
    "200, 202, 204, 206, 208, 220, 222, 224, 226, 228, 240, 242, 244, 246, 248, 260, 262, 264, 266, 268, 280, 282, 284, 286, 288"
   ]
  },
  {
   "cell_type": "code",
   "execution_count": 10,
   "metadata": {},
   "outputs": [
    {
     "name": "stdout",
     "output_type": "stream",
     "text": [
      "200, 202, 204, 206, 208, 220, 222, 224, 226, 228, 240, 242, 244, 246, 248, 260, 262, 264, 266, 268, 280, 282, 284, 286, 288\n"
     ]
    }
   ],
   "source": [
    "# Function to check if all digits of a number are even\n",
    "def all_even_digits(number):\n",
    "    return all(int(digit) % 2 == 0 for digit in str(number))\n",
    "\n",
    "# Generate numbers between 100 and 300 (inclusive) with all even digits\n",
    "even_digit_numbers = [num for num in range(100, 301) if all_even_digits(num)]\n",
    "\n",
    "# Print the result as a comma-separated string\n",
    "print(\", \".join(map(str, even_digit_numbers)))"
   ]
  },
  {
   "cell_type": "markdown",
   "metadata": {},
   "source": [
    "### Question 9:\n",
    "\n",
    "We have a list of several names along with their age. Now, there is a meeting where seats are reserved for senior citizens (age - 45 above). I want to filter out the senior citizens from this list and get a resultant list where we the names of all those who satisfy the criteria.\n",
    "\n",
    "passenger_list = {'Ross' : 35,\n",
    "                 <br>&emsp;&emsp;&emsp;&emsp;&emsp;&emsp;&emsp;&ensp;&nbsp;'Thomas': 42,\n",
    "                 <br>&emsp;&emsp;&emsp;&emsp;&emsp;&emsp;&emsp;&ensp;&nbsp;'Rick' : 55,\n",
    "                 <br>&emsp;&emsp;&emsp;&emsp;&emsp;&emsp;&emsp;&ensp;&nbsp;'Ericson' : 51,\n",
    "                 <br>&emsp;&emsp;&emsp;&emsp;&emsp;&emsp;&emsp;&ensp;&nbsp;'Josh' : 45,\n",
    "                 <br>&emsp;&emsp;&emsp;&emsp;&emsp;&emsp;&emsp;&ensp;&nbsp;'Lara' : 50,\n",
    "                 <br>&emsp;&emsp;&emsp;&emsp;&emsp;&emsp;&emsp;&ensp;&nbsp;'Emma' : 38,\n",
    "                 <br>&emsp;&emsp;&emsp;&emsp;&emsp;&emsp;&emsp;&ensp;&nbsp;'Lily' : 46,\n",
    "                 <br>&emsp;&emsp;&emsp;&emsp;&emsp;&emsp;&emsp;&ensp;&nbsp;'Ron' : 41,\n",
    "                 <br>&emsp;&emsp;&emsp;&emsp;&emsp;&emsp;&emsp;&ensp;&nbsp;'Michael' : 47,\n",
    "                 <br>&emsp;&emsp;&emsp;&emsp;&emsp;&emsp;&emsp;&ensp;&nbsp;'Joanna' : 56,\n",
    "                 <br>&emsp;&emsp;&emsp;&emsp;&emsp;&emsp;&emsp;&ensp;&nbsp;'Arthur' : 42}\n",
    "\n",
    "#### Expected Output:\n",
    "\n",
    "{'Rick', 'Lily', 'Ericson', 'Joanna', 'Michael', 'Lara'}"
   ]
  },
  {
   "cell_type": "code",
   "execution_count": 11,
   "metadata": {},
   "outputs": [
    {
     "name": "stdout",
     "output_type": "stream",
     "text": [
      "{'Ericson', 'Rick', 'Lily', 'Joanna', 'Lara', 'Michael'}\n"
     ]
    }
   ],
   "source": [
    "# Given passenger list with names and ages\n",
    "passenger_list = {\n",
    "    'Ross': 35,\n",
    "    'Thomas': 42,\n",
    "    'Rick': 55,\n",
    "    'Ericson': 51,\n",
    "    'Josh': 45,\n",
    "    'Lara': 50,\n",
    "    'Emma': 38,\n",
    "    'Lily': 46,\n",
    "    'Ron': 41,\n",
    "    'Michael': 47,\n",
    "    'Joanna': 56,\n",
    "    'Arthur': 42\n",
    "}\n",
    "\n",
    "# Filter senior citizens (age > 45)\n",
    "senior_citizens = {name for name, age in passenger_list.items() if age > 45}\n",
    "\n",
    "# Print the resulting set\n",
    "print(senior_citizens)"
   ]
  },
  {
   "cell_type": "markdown",
   "metadata": {},
   "source": [
    "### Question 10:\n",
    "\n",
    "We have a list given below, which contains several numbers. I want to slice this list based on its indexes, into 3 equal sub-lists.\n",
    "\n",
    "num_list = [31, 24, 2, 16, 19, 45, 75, 63, 79]\n",
    "\n",
    "#### Expected Output:\n",
    "\n",
    "Sub-List  1 [31, 24, 2]\n",
    "<br>Sub-List  2 [16, 19, 45]\n",
    "<br>Sub-List  3 [75, 63, 79]"
   ]
  },
  {
   "cell_type": "code",
   "execution_count": 12,
   "metadata": {},
   "outputs": [
    {
     "name": "stdout",
     "output_type": "stream",
     "text": [
      "Sub-List 1 [31, 24, 2]\n",
      "Sub-List 2 [16, 19, 45]\n",
      "Sub-List 3 [75, 63, 79]\n"
     ]
    }
   ],
   "source": [
    "# Given list of numbers\n",
    "num_list = [31, 24, 2, 16, 19, 45, 75, 63, 79]\n",
    "\n",
    "# Calculate the length of each sub-list\n",
    "n = len(num_list) // 3\n",
    "\n",
    "# Slice the list into three equal parts\n",
    "sub_list_1 = num_list[:n]\n",
    "sub_list_2 = num_list[n:2*n]\n",
    "sub_list_3 = num_list[2*n:]\n",
    "\n",
    "# Print the results\n",
    "print(\"Sub-List 1\", sub_list_1)\n",
    "print(\"Sub-List 2\", sub_list_2)\n",
    "print(\"Sub-List 3\", sub_list_3)"
   ]
  }
 ],
 "metadata": {
  "kernelspec": {
   "display_name": "base",
   "language": "python",
   "name": "python3"
  },
  "language_info": {
   "codemirror_mode": {
    "name": "ipython",
    "version": 3
   },
   "file_extension": ".py",
   "mimetype": "text/x-python",
   "name": "python",
   "nbconvert_exporter": "python",
   "pygments_lexer": "ipython3",
   "version": "3.12.7"
  }
 },
 "nbformat": 4,
 "nbformat_minor": 4
}
