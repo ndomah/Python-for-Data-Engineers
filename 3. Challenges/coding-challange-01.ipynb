{
 "cells": [
  {
   "cell_type": "markdown",
   "metadata": {},
   "source": [
    "# Coding Challange - 01"
   ]
  },
  {
   "cell_type": "markdown",
   "metadata": {},
   "source": [
    "### Question 1:\n",
    "\n",
    "Print the following tuple in reverse order.\n",
    "\n",
    "tuple_1 = (22, 65, 12, 54)\n",
    "\n",
    "#### Expected Output:\n",
    "\n",
    "(54, 12, 65, 22)"
   ]
  },
  {
   "cell_type": "code",
   "execution_count": 1,
   "metadata": {},
   "outputs": [
    {
     "name": "stdout",
     "output_type": "stream",
     "text": [
      "(54, 12, 65, 22)\n"
     ]
    }
   ],
   "source": [
    "tuple_1 = (22, 65, 12, 54)\n",
    "\n",
    "rev_tuple_1 = tuple_1[::-1]\n",
    "print(rev_tuple_1)"
   ]
  },
  {
   "cell_type": "markdown",
   "metadata": {},
   "source": [
    "### Question 2:\n",
    "\n",
    "Access the name 'David' from the list given below.\n",
    "\n",
    "myList = [(2, 14, 'David'), [2, 7], 'Shaun']\n",
    "\n",
    "##### Expected Output:\n",
    "\n",
    "'David'"
   ]
  },
  {
   "cell_type": "code",
   "execution_count": 2,
   "metadata": {},
   "outputs": [
    {
     "name": "stdout",
     "output_type": "stream",
     "text": [
      "David\n"
     ]
    }
   ],
   "source": [
    "myList = [(2, 14, 'David'), [2,7], 'Shaun']\n",
    "\n",
    "print(myList[0][2])"
   ]
  },
  {
   "cell_type": "markdown",
   "metadata": {},
   "source": [
    "### Question 3:\n",
    "\n",
    "We have a set and a dictionary given below. Print the set once again after adding the keys of the dictionary to the set. The order of the expected output may vary as it is a set.\n",
    "\n",
    "mySet = {2, 4, 6}\n",
    "\n",
    "myDict = {'A':'John', 'B':'Emma', 'C':'Sam'}\n",
    "\n",
    "##### Expected Output:\n",
    "\n",
    "{2, 4, 6, 'A', 'C', 'B'}"
   ]
  },
  {
   "cell_type": "code",
   "execution_count": 9,
   "metadata": {},
   "outputs": [
    {
     "data": {
      "text/plain": [
       "{2, 4, 6, 'A', 'B', 'C'}"
      ]
     },
     "execution_count": 9,
     "metadata": {},
     "output_type": "execute_result"
    }
   ],
   "source": [
    "mySet = {2, 4, 6}\n",
    "myDict = {'A': 'John', 'B':'Emma', 'C':'Sam'}\n",
    "\n",
    "dictSet = set(myDict.keys())\n",
    "mySet | dictSet"
   ]
  },
  {
   "cell_type": "markdown",
   "metadata": {},
   "source": [
    "### Question 4:\n",
    "We have two sets given below. Print all the items from these sets after removing the duplicates.\n",
    "\n",
    "set_1 = {2, 4, 6, 8}\n",
    "<br>set_2 = {6, 8, 10, 12}\n",
    "\n",
    "#### Expected Output:\n",
    "\n",
    "{2, 4, 6, 8, 10, 12}"
   ]
  },
  {
   "cell_type": "code",
   "execution_count": 10,
   "metadata": {},
   "outputs": [
    {
     "data": {
      "text/plain": [
       "{2, 4, 6, 8, 10, 12}"
      ]
     },
     "execution_count": 10,
     "metadata": {},
     "output_type": "execute_result"
    }
   ],
   "source": [
    "set_1 = {2, 4, 6, 8}\n",
    "set_2 = {6, 8 , 10, 12}\n",
    "\n",
    "set_1 | set_2"
   ]
  },
  {
   "cell_type": "markdown",
   "metadata": {},
   "source": [
    "### Question 5:\n",
    "Write a Python program to print the first and the last second of the day.\n",
    "\n",
    "#### Expected Output:\n",
    "\n",
    "First Second:  00:00:00\n",
    "<br>Last Second:  23:59:59.999999"
   ]
  },
  {
   "cell_type": "code",
   "execution_count": 12,
   "metadata": {},
   "outputs": [
    {
     "name": "stdout",
     "output_type": "stream",
     "text": [
      "First Second: 00:00:00\n",
      "Last Second: 23:59:59.999999\n"
     ]
    }
   ],
   "source": [
    "from datetime import time \n",
    "\n",
    "print('First Second:', time(00, 00, 00))\n",
    "print('Last Second:', time(23, 59, 59, 999999))"
   ]
  },
  {
   "cell_type": "markdown",
   "metadata": {},
   "source": [
    "### Question 6:\n",
    "\n",
    "Print the total number of digits in the number given below.\n",
    "\n",
    "num = 8842\n",
    "\n",
    "#### Expected Output:\n",
    "\n",
    "Total digits are:  4"
   ]
  },
  {
   "cell_type": "code",
   "execution_count": 14,
   "metadata": {},
   "outputs": [
    {
     "name": "stdout",
     "output_type": "stream",
     "text": [
      "Total digits are: 4\n"
     ]
    }
   ],
   "source": [
    "num = 8842\n",
    "print('Total digits are:', len(str(num)))"
   ]
  },
  {
   "cell_type": "markdown",
   "metadata": {},
   "source": [
    "### Question 7:\n",
    "\n",
    "We have a list of lists that contains several numbers. I want you to print the list whose sum of elements is the highest and also the lowest.\n",
    "\n",
    "num_list = [[2, 8, 11], [4, 5, 7, 12], [8, 9, 10, 11], [19, 13, 7], [2, 5, 16]]\n",
    "\n",
    "#### Expected Output:\n",
    "\n",
    "The list with the maximum sum of elements:  [19, 13, 7]\n",
    "<br>The list with the minimum sum of elements:  [2, 8, 11]"
   ]
  },
  {
   "cell_type": "code",
   "execution_count": 15,
   "metadata": {},
   "outputs": [
    {
     "name": "stdout",
     "output_type": "stream",
     "text": [
      "The list with the maximum sum of elements:  [19, 13, 7]\n",
      "The list with the minimum sum of elements:  [2, 8, 11]\n"
     ]
    }
   ],
   "source": [
    "num_list = [[2, 8, 11], [4, 5, 7, 12], [8, 9, 10, 11], [19, 13, 7], [2, 5, 16]]\n",
    "\n",
    "max_sum_sublist = max(num_list, key=sum)\n",
    "min_sum_sublist = min(num_list, key=sum)\n",
    "\n",
    "print('The list with the maximum sum of elements: ', max_sum_sublist)\n",
    "print('The list with the minimum sum of elements: ', min_sum_sublist)"
   ]
  },
  {
   "cell_type": "markdown",
   "metadata": {},
   "source": [
    "### Question 8:\n",
    "\n",
    "We have a string that contains the names of different fruits. I want you to convert this string into multiple substrings where each substring includes one fruit's name.\n",
    "\n",
    "fruits_string = \" Apple, Banana, Mango, Kiwi, Guava, Grapes, Pomegranate, Orange, Watermelon\"\n",
    "\n",
    "#### Expected Output:\n",
    "\n",
    " Apple\n",
    " <br>Banana\n",
    " <br>Mango\n",
    " <br>Kiwi\n",
    " <br>Guava\n",
    " <br>Grapes\n",
    " <br>Pomegranate\n",
    " <br>Orange\n",
    " <br>Watermelon"
   ]
  },
  {
   "cell_type": "code",
   "execution_count": 19,
   "metadata": {},
   "outputs": [
    {
     "name": "stdout",
     "output_type": "stream",
     "text": [
      "Apple\n",
      "Banana\n",
      "Mango\n",
      "Kiwi\n",
      "Guava\n",
      "Grapes\n",
      "Pomegranate\n",
      "Orange\n",
      "Watermelon\n"
     ]
    }
   ],
   "source": [
    "fruits_string = \" Apple, Banana, Mango, Kiwi, Guava, Grapes, Pomegranate, Orange, Watermelon\"\n",
    "\n",
    "fruits_string = fruits_string.strip()\n",
    "fruits_sub_string = fruits_string.split(', ')\n",
    "\n",
    "for fruit in fruits_sub_string:\n",
    "    print(fruit)"
   ]
  },
  {
   "cell_type": "markdown",
   "metadata": {},
   "source": [
    "### Question 9:\n",
    "\n",
    "Write a program to reverse words in a string.\n",
    "\n",
    "sample_text = \"Python is a high-level and general-purpose programming language\"\n",
    "\n",
    "#### Expected Output:\n",
    "\n",
    "language programming general-purpose and high-level a is Python"
   ]
  },
  {
   "cell_type": "code",
   "execution_count": 22,
   "metadata": {},
   "outputs": [
    {
     "name": "stdout",
     "output_type": "stream",
     "text": [
      "language programming general-purpose and high-level a is Python\n"
     ]
    }
   ],
   "source": [
    "sample_text = \"Python is a high-level and general-purpose programming language\"\n",
    "\n",
    "txt_lst = sample_text.split(' ')\n",
    "rev_lst = txt_lst[::-1]\n",
    "rev_str = ' '.join(rev_lst)\n",
    "print(rev_str)"
   ]
  },
  {
   "cell_type": "markdown",
   "metadata": {},
   "source": [
    "### Question 10:\n",
    "\n",
    "Given below is the height (in cm) of the top 10 students in a class. Print the heights of the top 3 students from the given list.\n",
    "\n",
    "heights = [177, 160, 171, 163, 168,  175, 176, 183, 162, 170]\n",
    "\n",
    "#### Expected Output:\n",
    "\n",
    "Top Three Heights:  [183, 177, 176]"
   ]
  },
  {
   "cell_type": "code",
   "execution_count": 23,
   "metadata": {},
   "outputs": [
    {
     "name": "stdout",
     "output_type": "stream",
     "text": [
      "Top Three Heights:  [183, 177, 176]\n"
     ]
    }
   ],
   "source": [
    "heights = [177, 160, 171, 163, 168,  175, 176, 183, 162, 170]\n",
    "\n",
    "top_3 = sorted(heights, reverse=True)[:3]\n",
    "print('Top Three Heights: ', top_3)"
   ]
  }
 ],
 "metadata": {
  "kernelspec": {
   "display_name": "base",
   "language": "python",
   "name": "python3"
  },
  "language_info": {
   "codemirror_mode": {
    "name": "ipython",
    "version": 3
   },
   "file_extension": ".py",
   "mimetype": "text/x-python",
   "name": "python",
   "nbconvert_exporter": "python",
   "pygments_lexer": "ipython3",
   "version": "3.12.7"
  }
 },
 "nbformat": 4,
 "nbformat_minor": 4
}
