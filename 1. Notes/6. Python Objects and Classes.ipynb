{
 "cells": [
  {
   "cell_type": "markdown",
   "metadata": {},
   "source": [
    "# Python Objects and Classes"
   ]
  },
  {
   "cell_type": "markdown",
   "metadata": {},
   "source": [
    "## 1. Introduction to Python Classes"
   ]
  },
  {
   "cell_type": "code",
   "execution_count": 2,
   "metadata": {},
   "outputs": [
    {
     "data": {
      "text/plain": [
       "1234"
      ]
     },
     "execution_count": 2,
     "metadata": {},
     "output_type": "execute_result"
    }
   ],
   "source": [
    "class MyClass:\n",
    "    my_num = 1234\n",
    "    def say_hello(name):\n",
    "        print('Hello ' + name)\n",
    "        \n",
    "MyClass.my_num"
   ]
  },
  {
   "cell_type": "code",
   "execution_count": 4,
   "metadata": {},
   "outputs": [
    {
     "data": {
      "text/plain": [
       "4567"
      ]
     },
     "execution_count": 4,
     "metadata": {},
     "output_type": "execute_result"
    }
   ],
   "source": [
    "MyClass.my_num = 4567\n",
    "MyClass.my_num"
   ]
  },
  {
   "cell_type": "code",
   "execution_count": 5,
   "metadata": {},
   "outputs": [
    {
     "name": "stdout",
     "output_type": "stream",
     "text": [
      "Hello Nilesh\n"
     ]
    }
   ],
   "source": [
    "MyClass.say_hello(\"Nilesh\")"
   ]
  },
  {
   "cell_type": "markdown",
   "metadata": {},
   "source": [
    "## 2. Python Classes and Objects\n",
    "1. Initializer or Constructor\n",
    "2. Instance Variables\n",
    "3. Class Methods"
   ]
  },
  {
   "cell_type": "code",
   "execution_count": 8,
   "metadata": {},
   "outputs": [],
   "source": [
    "class Car:\n",
    "    def __init__(self, name, brand):\n",
    "        self.model_name = name\n",
    "        self.model_brand = brand\n",
    "        \n",
    "    def launch(self):\n",
    "        print(f\"{self.model_name} by {self.model_brand} launched.\")\n",
    "        \n",
    "car1 = Car(\"Hector\", \"MG\")"
   ]
  },
  {
   "cell_type": "code",
   "execution_count": 9,
   "metadata": {},
   "outputs": [
    {
     "data": {
      "text/plain": [
       "'Hector Plus'"
      ]
     },
     "execution_count": 9,
     "metadata": {},
     "output_type": "execute_result"
    }
   ],
   "source": [
    "car1.model_name = 'Hector Plus'\n",
    "car1.model_name"
   ]
  },
  {
   "cell_type": "code",
   "execution_count": 11,
   "metadata": {},
   "outputs": [
    {
     "data": {
      "text/plain": [
       "'i10'"
      ]
     },
     "execution_count": 11,
     "metadata": {},
     "output_type": "execute_result"
    }
   ],
   "source": [
    "car2 = Car('i10', 'Hyundai')\n",
    "car2.model_name"
   ]
  },
  {
   "cell_type": "code",
   "execution_count": 12,
   "metadata": {},
   "outputs": [
    {
     "data": {
      "text/plain": [
       "'Hector Plus'"
      ]
     },
     "execution_count": 12,
     "metadata": {},
     "output_type": "execute_result"
    }
   ],
   "source": [
    "car1.model_name"
   ]
  },
  {
   "cell_type": "code",
   "execution_count": 13,
   "metadata": {},
   "outputs": [
    {
     "name": "stdout",
     "output_type": "stream",
     "text": [
      "Hector Plus by MG launched.\n"
     ]
    }
   ],
   "source": [
    "car1.launch()"
   ]
  },
  {
   "cell_type": "code",
   "execution_count": 14,
   "metadata": {},
   "outputs": [
    {
     "name": "stdout",
     "output_type": "stream",
     "text": [
      "i10 by Hyundai launched.\n"
     ]
    }
   ],
   "source": [
    "car2.launch()"
   ]
  },
  {
   "cell_type": "markdown",
   "metadata": {},
   "source": [
    "## 3. Class Inheritance"
   ]
  },
  {
   "cell_type": "code",
   "execution_count": 15,
   "metadata": {},
   "outputs": [],
   "source": [
    "class Car:\n",
    "    def __init__(self):\n",
    "        self.current_state = \"Standing\"\n",
    "        self.current_speed = 0\n",
    "        \n",
    "    def start(self):\n",
    "        self.current_state = \"Running\"\n",
    "        self.current_speed = 10\n",
    "        \n",
    "    def stop(self):\n",
    "        self.current_state = \"Standing\"\n",
    "        self.current_speed = 0\n",
    "        \n",
    "    def speed_up(self, speed):\n",
    "        if self.current_state == \"Standing\":\n",
    "            self.start()\n",
    "        self.current_speed += speed\n",
    "        \n",
    "    def speed_down(self, speed):\n",
    "        if self.current_state == \"Running\":\n",
    "            self.current_speed -= speed\n",
    "            \n",
    "    def show_state(self):\n",
    "        print(f\"{self.current_state} and current speed is {self.current_speed}.\")"
   ]
  },
  {
   "cell_type": "code",
   "execution_count": 16,
   "metadata": {},
   "outputs": [
    {
     "name": "stdout",
     "output_type": "stream",
     "text": [
      "Standing and current speed is 0.\n"
     ]
    }
   ],
   "source": [
    "car1 = Car()\n",
    "car1.show_state()"
   ]
  },
  {
   "cell_type": "code",
   "execution_count": 17,
   "metadata": {},
   "outputs": [
    {
     "name": "stdout",
     "output_type": "stream",
     "text": [
      "Standing and current speed is 0.\n"
     ]
    }
   ],
   "source": [
    "class Hector(Car):\n",
    "    pass\n",
    "\n",
    "h1 = Hector()\n",
    "h1.show_state()"
   ]
  },
  {
   "cell_type": "code",
   "execution_count": 18,
   "metadata": {},
   "outputs": [
    {
     "name": "stdout",
     "output_type": "stream",
     "text": [
      "Hector is Standing and current speed is 0.\n"
     ]
    }
   ],
   "source": [
    "class Hector(Car):\n",
    "    def show_state(self):\n",
    "        print(f\"Hector is {self.current_state} and current speed is {self.current_speed}.\")\n",
    "        \n",
    "h1 = Hector()\n",
    "h1.show_state()"
   ]
  },
  {
   "cell_type": "code",
   "execution_count": 19,
   "metadata": {},
   "outputs": [
    {
     "name": "stdout",
     "output_type": "stream",
     "text": [
      "Hector is Running and current speed is 10.\n"
     ]
    }
   ],
   "source": [
    "class Hector(Car):\n",
    "    def show_state(self):\n",
    "        print(f\"Hector is {self.current_state} and current speed is {self.current_speed}.\")\n",
    "        \n",
    "    def park(self):\n",
    "        self.current_state = \"Parked\"\n",
    "        self.current_speed = 0\n",
    "        \n",
    "h1 = Hector()\n",
    "h1.start()\n",
    "h1.show_state()"
   ]
  },
  {
   "cell_type": "code",
   "execution_count": 20,
   "metadata": {},
   "outputs": [
    {
     "name": "stdout",
     "output_type": "stream",
     "text": [
      "Hector is Running and current speed is 50.\n"
     ]
    }
   ],
   "source": [
    "h1.speed_up(40)\n",
    "h1.show_state()"
   ]
  },
  {
   "cell_type": "code",
   "execution_count": 21,
   "metadata": {},
   "outputs": [
    {
     "name": "stdout",
     "output_type": "stream",
     "text": [
      "Hector is Running and current speed is 20.\n"
     ]
    }
   ],
   "source": [
    "h1.speed_down(30)\n",
    "h1.show_state()"
   ]
  },
  {
   "cell_type": "code",
   "execution_count": 22,
   "metadata": {},
   "outputs": [
    {
     "name": "stdout",
     "output_type": "stream",
     "text": [
      "Hector is Parked and current speed is 0.\n"
     ]
    }
   ],
   "source": [
    "h1.park()\n",
    "h1.show_state()"
   ]
  },
  {
   "cell_type": "markdown",
   "metadata": {},
   "source": [
    "## 4. Class Methods vs. Instance Methods\n",
    "Class Attributes:\n",
    "1. Defined without `self`\n",
    "2. Accessed using class name\n",
    "3. Shared by all objects of the class\n",
    "\n",
    "Instance Attributes:\n",
    "1. Defined with the `self`\n",
    "2. Accessed using object of the class\n",
    "3. Not shared"
   ]
  },
  {
   "cell_type": "code",
   "execution_count": 23,
   "metadata": {},
   "outputs": [
    {
     "name": "stdout",
     "output_type": "stream",
     "text": [
      "MG Hector is Standing and current speed is 0.\n"
     ]
    }
   ],
   "source": [
    "class Car():\n",
    "    brand = \"MG Hector\"\n",
    "    \n",
    "    def launch_year():\n",
    "        return 2020\n",
    "    \n",
    "    def __init__(self):\n",
    "        self.current_state = \"Standing\"\n",
    "        self.current_speed = 0\n",
    "        \n",
    "    def show_state(self):\n",
    "        print(f\"{self.brand} is {self.current_state} and current speed is {self.current_speed}.\")\n",
    "        \n",
    "car1 = Car()\n",
    "car2 = Car()\n",
    "car1.show_state()"
   ]
  },
  {
   "cell_type": "code",
   "execution_count": 24,
   "metadata": {},
   "outputs": [
    {
     "name": "stdout",
     "output_type": "stream",
     "text": [
      "MG Hector is Running and current speed is 10.\n"
     ]
    }
   ],
   "source": [
    "car1.current_speed = 10\n",
    "car1.current_state = \"Running\"\n",
    "car1.show_state()"
   ]
  },
  {
   "cell_type": "code",
   "execution_count": 25,
   "metadata": {},
   "outputs": [
    {
     "name": "stdout",
     "output_type": "stream",
     "text": [
      "MG Hector Plus is Running and current speed is 10.\n"
     ]
    }
   ],
   "source": [
    "Car.brand = \"MG Hector Plus\"\n",
    "car1.show_state()"
   ]
  },
  {
   "cell_type": "code",
   "execution_count": 26,
   "metadata": {},
   "outputs": [
    {
     "name": "stdout",
     "output_type": "stream",
     "text": [
      "MG Hector Plus is Standing and current speed is 0.\n"
     ]
    }
   ],
   "source": [
    "car2.show_state()"
   ]
  },
  {
   "cell_type": "code",
   "execution_count": 27,
   "metadata": {},
   "outputs": [
    {
     "data": {
      "text/plain": [
       "'MG Hector Plus'"
      ]
     },
     "execution_count": 27,
     "metadata": {},
     "output_type": "execute_result"
    }
   ],
   "source": [
    "car1.brand"
   ]
  },
  {
   "cell_type": "code",
   "execution_count": 28,
   "metadata": {},
   "outputs": [
    {
     "data": {
      "text/plain": [
       "'MG Hector Plus'"
      ]
     },
     "execution_count": 28,
     "metadata": {},
     "output_type": "execute_result"
    }
   ],
   "source": [
    "car2.brand"
   ]
  },
  {
   "cell_type": "code",
   "execution_count": 29,
   "metadata": {},
   "outputs": [
    {
     "data": {
      "text/plain": [
       "2020"
      ]
     },
     "execution_count": 29,
     "metadata": {},
     "output_type": "execute_result"
    }
   ],
   "source": [
    "Car.launch_year()"
   ]
  },
  {
   "cell_type": "code",
   "execution_count": 30,
   "metadata": {},
   "outputs": [
    {
     "ename": "TypeError",
     "evalue": "Car.launch_year() takes 0 positional arguments but 1 was given",
     "output_type": "error",
     "traceback": [
      "\u001b[1;31m---------------------------------------------------------------------------\u001b[0m",
      "\u001b[1;31mTypeError\u001b[0m                                 Traceback (most recent call last)",
      "Cell \u001b[1;32mIn[30], line 1\u001b[0m\n\u001b[1;32m----> 1\u001b[0m car1\u001b[38;5;241m.\u001b[39mlaunch_year()\n",
      "\u001b[1;31mTypeError\u001b[0m: Car.launch_year() takes 0 positional arguments but 1 was given"
     ]
    }
   ],
   "source": [
    "car1.launch_year()"
   ]
  },
  {
   "cell_type": "code",
   "execution_count": 31,
   "metadata": {},
   "outputs": [],
   "source": [
    "class Car():\n",
    "    brand = \"MG Hector\"\n",
    "    \n",
    "    @classmethod\n",
    "    def launch_year(cls):\n",
    "        return 2020\n",
    "    \n",
    "    def __init__(self):\n",
    "        self.current_state = \"Standing\"\n",
    "        self.current_speed = 0\n",
    "        \n",
    "    def show_state(self):\n",
    "        print(f\"{self.brand} is {self.current_state} and current speed is {self.current_speed}.\")"
   ]
  },
  {
   "cell_type": "code",
   "execution_count": 32,
   "metadata": {},
   "outputs": [
    {
     "data": {
      "text/plain": [
       "2020"
      ]
     },
     "execution_count": 32,
     "metadata": {},
     "output_type": "execute_result"
    }
   ],
   "source": [
    "Car.launch_year()"
   ]
  },
  {
   "cell_type": "code",
   "execution_count": 34,
   "metadata": {},
   "outputs": [
    {
     "data": {
      "text/plain": [
       "2020"
      ]
     },
     "execution_count": 34,
     "metadata": {},
     "output_type": "execute_result"
    }
   ],
   "source": [
    "car1 = Car()\n",
    "car1.launch_year()"
   ]
  }
 ],
 "metadata": {
  "kernelspec": {
   "display_name": "base",
   "language": "python",
   "name": "python3"
  },
  "language_info": {
   "codemirror_mode": {
    "name": "ipython",
    "version": 3
   },
   "file_extension": ".py",
   "mimetype": "text/x-python",
   "name": "python",
   "nbconvert_exporter": "python",
   "pygments_lexer": "ipython3",
   "version": "3.12.7"
  }
 },
 "nbformat": 4,
 "nbformat_minor": 2
}
