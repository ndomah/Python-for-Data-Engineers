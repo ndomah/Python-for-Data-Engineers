{
 "cells": [
  {
   "cell_type": "markdown",
   "metadata": {},
   "source": [
    "# Errors and Exception Handling"
   ]
  },
  {
   "cell_type": "markdown",
   "metadata": {},
   "source": [
    "## 1. Introduction to Errors and Exceptions"
   ]
  },
  {
   "cell_type": "code",
   "execution_count": 1,
   "metadata": {},
   "outputs": [
    {
     "ename": "SyntaxError",
     "evalue": "expected ':' (734816251.py, line 3)",
     "output_type": "error",
     "traceback": [
      "\u001b[1;36m  Cell \u001b[1;32mIn[1], line 3\u001b[1;36m\u001b[0m\n\u001b[1;33m    if 5 in num_list\u001b[0m\n\u001b[1;37m                    ^\u001b[0m\n\u001b[1;31mSyntaxError\u001b[0m\u001b[1;31m:\u001b[0m expected ':'\n"
     ]
    }
   ],
   "source": [
    "num_list = [1, 3, 5, 7]\n",
    "\n",
    "if 5 in num_list\n",
    "    print('Present!')"
   ]
  },
  {
   "cell_type": "code",
   "execution_count": 2,
   "metadata": {},
   "outputs": [
    {
     "ename": "KeyError",
     "evalue": "3",
     "output_type": "error",
     "traceback": [
      "\u001b[1;31m---------------------------------------------------------------------------\u001b[0m",
      "\u001b[1;31mKeyError\u001b[0m                                  Traceback (most recent call last)",
      "Cell \u001b[1;32mIn[2], line 2\u001b[0m\n\u001b[0;32m      1\u001b[0m myDict \u001b[38;5;241m=\u001b[39m {\u001b[38;5;241m1\u001b[39m: \u001b[38;5;124m\"\u001b[39m\u001b[38;5;124mRoss\u001b[39m\u001b[38;5;124m\"\u001b[39m, \u001b[38;5;241m2\u001b[39m: \u001b[38;5;124m\"\u001b[39m\u001b[38;5;124mTaylor\u001b[39m\u001b[38;5;124m\"\u001b[39m}\n\u001b[1;32m----> 2\u001b[0m myDict[\u001b[38;5;241m3\u001b[39m]\n",
      "\u001b[1;31mKeyError\u001b[0m: 3"
     ]
    }
   ],
   "source": [
    "myDict = {1: \"Ross\", 2: \"Taylor\"}\n",
    "myDict[3]"
   ]
  },
  {
   "cell_type": "code",
   "execution_count": 3,
   "metadata": {},
   "outputs": [
    {
     "ename": "SyntaxError",
     "evalue": "unmatched ')' (1292577393.py, line 4)",
     "output_type": "error",
     "traceback": [
      "\u001b[1;36m  Cell \u001b[1;32mIn[3], line 4\u001b[1;36m\u001b[0m\n\u001b[1;33m    print(a / b))\u001b[0m\n\u001b[1;37m                ^\u001b[0m\n\u001b[1;31mSyntaxError\u001b[0m\u001b[1;31m:\u001b[0m unmatched ')'\n"
     ]
    }
   ],
   "source": [
    "a = 3\n",
    "b = 2\n",
    "\n",
    "print(a / b))"
   ]
  },
  {
   "cell_type": "code",
   "execution_count": 4,
   "metadata": {},
   "outputs": [
    {
     "ename": "ZeroDivisionError",
     "evalue": "division by zero",
     "output_type": "error",
     "traceback": [
      "\u001b[1;31m---------------------------------------------------------------------------\u001b[0m",
      "\u001b[1;31mZeroDivisionError\u001b[0m                         Traceback (most recent call last)",
      "Cell \u001b[1;32mIn[4], line 4\u001b[0m\n\u001b[0;32m      1\u001b[0m a \u001b[38;5;241m=\u001b[39m \u001b[38;5;241m3\u001b[39m\n\u001b[0;32m      2\u001b[0m b \u001b[38;5;241m=\u001b[39m \u001b[38;5;241m0\u001b[39m\n\u001b[1;32m----> 4\u001b[0m \u001b[38;5;28mprint\u001b[39m(a \u001b[38;5;241m/\u001b[39m b)\n",
      "\u001b[1;31mZeroDivisionError\u001b[0m: division by zero"
     ]
    }
   ],
   "source": [
    "a = 3\n",
    "b = 0\n",
    "\n",
    "print(a / b)"
   ]
  },
  {
   "cell_type": "code",
   "execution_count": 5,
   "metadata": {},
   "outputs": [
    {
     "ename": "TypeError",
     "evalue": "unsupported operand type(s) for /: 'int' and 'str'",
     "output_type": "error",
     "traceback": [
      "\u001b[1;31m---------------------------------------------------------------------------\u001b[0m",
      "\u001b[1;31mTypeError\u001b[0m                                 Traceback (most recent call last)",
      "Cell \u001b[1;32mIn[5], line 4\u001b[0m\n\u001b[0;32m      1\u001b[0m a \u001b[38;5;241m=\u001b[39m \u001b[38;5;241m3\u001b[39m\n\u001b[0;32m      2\u001b[0m b \u001b[38;5;241m=\u001b[39m \u001b[38;5;124m\"\u001b[39m\u001b[38;5;124mHi\u001b[39m\u001b[38;5;124m\"\u001b[39m\n\u001b[1;32m----> 4\u001b[0m \u001b[38;5;28mprint\u001b[39m(a \u001b[38;5;241m/\u001b[39m b)\n",
      "\u001b[1;31mTypeError\u001b[0m: unsupported operand type(s) for /: 'int' and 'str'"
     ]
    }
   ],
   "source": [
    "a = 3\n",
    "b = \"Hi\"\n",
    "\n",
    "print(a / b)"
   ]
  },
  {
   "cell_type": "markdown",
   "metadata": {},
   "source": [
    "1. **Syntax Errors** - coding mistakes\n",
    "2. **Exceptions** - run-time errors"
   ]
  },
  {
   "cell_type": "markdown",
   "metadata": {},
   "source": [
    "## 2. Basics of Exception Handling"
   ]
  },
  {
   "cell_type": "code",
   "execution_count": 6,
   "metadata": {},
   "outputs": [
    {
     "name": "stdout",
     "output_type": "stream",
     "text": [
      "You entered:  5\n"
     ]
    }
   ],
   "source": [
    "n = int(input(\"Please enter a number: \"))\n",
    "print(\"You entered: \", str(n))"
   ]
  },
  {
   "cell_type": "code",
   "execution_count": 7,
   "metadata": {},
   "outputs": [
    {
     "ename": "ValueError",
     "evalue": "invalid literal for int() with base 10: 'a'",
     "output_type": "error",
     "traceback": [
      "\u001b[1;31m---------------------------------------------------------------------------\u001b[0m",
      "\u001b[1;31mValueError\u001b[0m                                Traceback (most recent call last)",
      "Cell \u001b[1;32mIn[7], line 1\u001b[0m\n\u001b[1;32m----> 1\u001b[0m n \u001b[38;5;241m=\u001b[39m \u001b[38;5;28mint\u001b[39m(\u001b[38;5;28minput\u001b[39m(\u001b[38;5;124m\"\u001b[39m\u001b[38;5;124mPlease enter a number: \u001b[39m\u001b[38;5;124m\"\u001b[39m))\n\u001b[0;32m      2\u001b[0m \u001b[38;5;28mprint\u001b[39m(\u001b[38;5;124m\"\u001b[39m\u001b[38;5;124mYou entered: \u001b[39m\u001b[38;5;124m\"\u001b[39m, \u001b[38;5;28mstr\u001b[39m(n))\n",
      "\u001b[1;31mValueError\u001b[0m: invalid literal for int() with base 10: 'a'"
     ]
    }
   ],
   "source": [
    "n = int(input(\"Please enter a number: \"))\n",
    "print(\"You entered: \", str(n))"
   ]
  },
  {
   "cell_type": "code",
   "execution_count": 8,
   "metadata": {},
   "outputs": [
    {
     "name": "stdout",
     "output_type": "stream",
     "text": [
      "You entered:  5\n",
      "Finished\n"
     ]
    }
   ],
   "source": [
    "try:\n",
    "    n = int(input(\"Please enter a number: \"))\n",
    "    print(\"You entered: \", str(n))\n",
    "except ValueError:\n",
    "    print(\"Oops! Enter a numeric value.\")\n",
    "    \n",
    "print(\"Finished\")"
   ]
  },
  {
   "cell_type": "code",
   "execution_count": 9,
   "metadata": {},
   "outputs": [
    {
     "name": "stdout",
     "output_type": "stream",
     "text": [
      "Oops! Enter a numeric value.\n",
      "Finished\n"
     ]
    }
   ],
   "source": [
    "try:\n",
    "    n = int(input(\"Please enter a number: \"))\n",
    "    print(\"You entered: \", str(n))\n",
    "except ValueError:\n",
    "    print(\"Oops! Enter a numeric value.\")\n",
    "    \n",
    "print(\"Finished\")"
   ]
  },
  {
   "cell_type": "code",
   "execution_count": 10,
   "metadata": {},
   "outputs": [
    {
     "name": "stdout",
     "output_type": "stream",
     "text": [
      "Python 3 Foundation Course\n"
     ]
    }
   ],
   "source": [
    "my_file = open('myfile.txt', 'r')\n",
    "\n",
    "for line in my_file:\n",
    "    print(line)"
   ]
  },
  {
   "cell_type": "code",
   "execution_count": 11,
   "metadata": {},
   "outputs": [
    {
     "ename": "FileNotFoundError",
     "evalue": "[Errno 2] No such file or directory: 'my_file.txt'",
     "output_type": "error",
     "traceback": [
      "\u001b[1;31m---------------------------------------------------------------------------\u001b[0m",
      "\u001b[1;31mFileNotFoundError\u001b[0m                         Traceback (most recent call last)",
      "Cell \u001b[1;32mIn[11], line 1\u001b[0m\n\u001b[1;32m----> 1\u001b[0m my_file \u001b[38;5;241m=\u001b[39m \u001b[38;5;28mopen\u001b[39m(\u001b[38;5;124m'\u001b[39m\u001b[38;5;124mmy_file.txt\u001b[39m\u001b[38;5;124m'\u001b[39m, \u001b[38;5;124m'\u001b[39m\u001b[38;5;124mr\u001b[39m\u001b[38;5;124m'\u001b[39m)\n\u001b[0;32m      3\u001b[0m \u001b[38;5;28;01mfor\u001b[39;00m line \u001b[38;5;129;01min\u001b[39;00m my_file:\n\u001b[0;32m      4\u001b[0m     \u001b[38;5;28mprint\u001b[39m(line)\n",
      "File \u001b[1;32mc:\\Users\\niles\\anaconda3\\Lib\\site-packages\\IPython\\core\\interactiveshell.py:324\u001b[0m, in \u001b[0;36m_modified_open\u001b[1;34m(file, *args, **kwargs)\u001b[0m\n\u001b[0;32m    317\u001b[0m \u001b[38;5;28;01mif\u001b[39;00m file \u001b[38;5;129;01min\u001b[39;00m {\u001b[38;5;241m0\u001b[39m, \u001b[38;5;241m1\u001b[39m, \u001b[38;5;241m2\u001b[39m}:\n\u001b[0;32m    318\u001b[0m     \u001b[38;5;28;01mraise\u001b[39;00m \u001b[38;5;167;01mValueError\u001b[39;00m(\n\u001b[0;32m    319\u001b[0m         \u001b[38;5;124mf\u001b[39m\u001b[38;5;124m\"\u001b[39m\u001b[38;5;124mIPython won\u001b[39m\u001b[38;5;124m'\u001b[39m\u001b[38;5;124mt let you open fd=\u001b[39m\u001b[38;5;132;01m{\u001b[39;00mfile\u001b[38;5;132;01m}\u001b[39;00m\u001b[38;5;124m by default \u001b[39m\u001b[38;5;124m\"\u001b[39m\n\u001b[0;32m    320\u001b[0m         \u001b[38;5;124m\"\u001b[39m\u001b[38;5;124mas it is likely to crash IPython. If you know what you are doing, \u001b[39m\u001b[38;5;124m\"\u001b[39m\n\u001b[0;32m    321\u001b[0m         \u001b[38;5;124m\"\u001b[39m\u001b[38;5;124myou can use builtins\u001b[39m\u001b[38;5;124m'\u001b[39m\u001b[38;5;124m open.\u001b[39m\u001b[38;5;124m\"\u001b[39m\n\u001b[0;32m    322\u001b[0m     )\n\u001b[1;32m--> 324\u001b[0m \u001b[38;5;28;01mreturn\u001b[39;00m io_open(file, \u001b[38;5;241m*\u001b[39margs, \u001b[38;5;241m*\u001b[39m\u001b[38;5;241m*\u001b[39mkwargs)\n",
      "\u001b[1;31mFileNotFoundError\u001b[0m: [Errno 2] No such file or directory: 'my_file.txt'"
     ]
    }
   ],
   "source": [
    "my_file = open('my_file.txt', 'r')\n",
    "\n",
    "for line in my_file:\n",
    "    print(line)"
   ]
  },
  {
   "cell_type": "code",
   "execution_count": 12,
   "metadata": {},
   "outputs": [
    {
     "name": "stdout",
     "output_type": "stream",
     "text": [
      "File not found - Make sure file is in directory and/or spelled correctly.\n"
     ]
    }
   ],
   "source": [
    "try:\n",
    "    my_file = open('my_file.txt', 'r')\n",
    "\n",
    "    for line in my_file:\n",
    "        print(line)\n",
    "        \n",
    "except FileNotFoundError:\n",
    "    print(\"File not found - Make sure file is in directory and/or spelled correctly.\")"
   ]
  },
  {
   "cell_type": "markdown",
   "metadata": {},
   "source": [
    "## 3. Python Try-Except deep dive\n",
    "`def function_name(file_name, divisor):`\n",
    "1. Open the file and read the numbers given in the file.\n",
    "2. Divide each number with the divisor and sum the result.\n",
    "3. Finally, return the sum in the end."
   ]
  },
  {
   "cell_type": "code",
   "execution_count": 14,
   "metadata": {},
   "outputs": [
    {
     "data": {
      "text/plain": [
       "3.0"
      ]
     },
     "execution_count": 14,
     "metadata": {},
     "output_type": "execute_result"
    }
   ],
   "source": [
    "def file_divide(file, divisor):\n",
    "    my_file = open(file, \"r\")\n",
    "    sum = 0\n",
    "    \n",
    "    for num in my_file:\n",
    "        sum += int(num)/divisor\n",
    "        \n",
    "    my_file.close()\n",
    "    return sum\n",
    "\n",
    "file_divide('data.txt', 10)"
   ]
  },
  {
   "cell_type": "markdown",
   "metadata": {},
   "source": [
    "1. What if the file does not exist at a given location?\n",
    "2. What if the caller passed a zero for the divisor?\n",
    "3. What if the data file contians some non-numeric values?"
   ]
  },
  {
   "cell_type": "code",
   "execution_count": 15,
   "metadata": {},
   "outputs": [
    {
     "name": "stdout",
     "output_type": "stream",
     "text": [
      "File not found - make sure the file is in the correct directory\n"
     ]
    }
   ],
   "source": [
    "def file_divide(file, divisor):\n",
    "    try:\n",
    "        my_file = open(file, \"r\")\n",
    "    except FileNotFoundError:\n",
    "        print('File not found - make sure the file is in the correct directory')\n",
    "        return\n",
    "    \n",
    "    sum = 0\n",
    "    for num in my_file:\n",
    "        sum += int(num)/divisor\n",
    "        \n",
    "    my_file.close()\n",
    "    return sum\n",
    "\n",
    "file_divide('data/data.txt', 10)"
   ]
  },
  {
   "cell_type": "code",
   "execution_count": 16,
   "metadata": {},
   "outputs": [
    {
     "name": "stdout",
     "output_type": "stream",
     "text": [
      "Cannot divide by zero.\n"
     ]
    }
   ],
   "source": [
    "def file_divide(file, divisor):\n",
    "    try:\n",
    "        my_file = open(file, \"r\")\n",
    "    except FileNotFoundError:\n",
    "        print('File not found - make sure the file is in the correct directory')\n",
    "        return\n",
    "    \n",
    "    sum = 0\n",
    "    try:\n",
    "        for num in my_file:\n",
    "            sum += int(num)/divisor\n",
    "    except ZeroDivisionError:\n",
    "        print('Cannot divide by zero.')\n",
    "        return \n",
    "    \n",
    "    my_file.close()\n",
    "    return sum\n",
    "\n",
    "file_divide('data.txt', 0)"
   ]
  },
  {
   "cell_type": "code",
   "execution_count": 20,
   "metadata": {},
   "outputs": [
    {
     "name": "stdout",
     "output_type": "stream",
     "text": [
      "Invalid value! Check your data file\n"
     ]
    }
   ],
   "source": [
    "def file_divide(file, divisor):\n",
    "    try:\n",
    "        my_file = open(file, \"r\")\n",
    "    except FileNotFoundError:\n",
    "        print('File not found - make sure the file is in the correct directory')\n",
    "        return\n",
    "    \n",
    "    sum = 0\n",
    "    try:\n",
    "        for num in my_file:\n",
    "            sum += int(num)/divisor\n",
    "    except ZeroDivisionError:\n",
    "        print('Cannot divide by zero.')\n",
    "        return\n",
    "    except ValueError:\n",
    "        print('Invalid value! Check your data file')\n",
    "        return\n",
    "    \n",
    "    my_file.close()\n",
    "    return sum\n",
    "\n",
    "file_divide('data2.txt', 10)"
   ]
  },
  {
   "cell_type": "code",
   "execution_count": null,
   "metadata": {},
   "outputs": [],
   "source": [
    "def file_divide(file, divisor):\n",
    "    try:\n",
    "        my_file = open(file, \"r\")\n",
    "    except FileNotFoundError:\n",
    "        print('File not found - make sure the file is in the correct directory')\n",
    "        return\n",
    "    \n",
    "    sum = 0\n",
    "    try:\n",
    "        for num in my_file:\n",
    "            sum += int(num)/divisor\n",
    "    except ZeroDivisionError:\n",
    "        print('Cannot divide by zero.')\n",
    "        return\n",
    "    except ValueError:\n",
    "        print('Invalid value! Check your data file')\n",
    "        return\n",
    "    except:\n",
    "        print(\"Something went wrong!\")\n",
    "    finally:\n",
    "        my_file.close()\n",
    "        \n",
    "    return sum"
   ]
  },
  {
   "cell_type": "markdown",
   "metadata": {},
   "source": [
    "## 4. User Defined Exception"
   ]
  },
  {
   "cell_type": "code",
   "execution_count": 22,
   "metadata": {},
   "outputs": [
    {
     "name": "stdout",
     "output_type": "stream",
     "text": [
      "moved you by 7\n"
     ]
    }
   ],
   "source": [
    "def advance_by(die_input):\n",
    "    print('moved you by ' + str(die_input)) # die only goes from 1-6\n",
    "    \n",
    "advance_by(7)"
   ]
  },
  {
   "cell_type": "code",
   "execution_count": 26,
   "metadata": {},
   "outputs": [
    {
     "name": "stdout",
     "output_type": "stream",
     "text": [
      "Not a valid number. Enter a number greater than 0.\n"
     ]
    }
   ],
   "source": [
    "def advance_by(die_input):\n",
    "    if die_input <- 0:\n",
    "        print('Not a valid number. Enter a number greater than 0.')\n",
    "    elif die_input > 6:\n",
    "        print(\"Not a valid number. Enter a number less than or equal to 6.\")\n",
    "    else:\n",
    "        print('moved you by ' + str(die_input))\n",
    "        \n",
    "advance_by(-2)"
   ]
  },
  {
   "cell_type": "code",
   "execution_count": 27,
   "metadata": {},
   "outputs": [
    {
     "name": "stdout",
     "output_type": "stream",
     "text": [
      "Not a valid number. Enter a number less than or equal to 6.\n"
     ]
    }
   ],
   "source": [
    "advance_by(7)"
   ]
  },
  {
   "cell_type": "code",
   "execution_count": 28,
   "metadata": {},
   "outputs": [
    {
     "name": "stdout",
     "output_type": "stream",
     "text": [
      "moved you by 6\n"
     ]
    }
   ],
   "source": [
    "advance_by(6)"
   ]
  },
  {
   "cell_type": "code",
   "execution_count": 29,
   "metadata": {},
   "outputs": [
    {
     "name": "stdout",
     "output_type": "stream",
     "text": [
      "die cannot give > 6\n"
     ]
    }
   ],
   "source": [
    "def advance_by(die_input):\n",
    "    if die_input <- 0:\n",
    "        return 'Not a valid number. Enter a number greater than 0.'\n",
    "    elif die_input > 6:\n",
    "        return \"Not a valid number. Enter a number less than or equal to 6.\"\n",
    "    else:\n",
    "        print('moved you by ' + str(die_input))\n",
    "        \n",
    "result = advance_by(7)\n",
    "\n",
    "if result == 'Not a valid number. Enter a number greater than 0.':\n",
    "    print('die cannot give <= 0.')\n",
    "elif result == \"Not a valid number. Enter a number less than or equal to 6.\":\n",
    "    print('die cannot give > 6')"
   ]
  },
  {
   "cell_type": "code",
   "execution_count": 31,
   "metadata": {},
   "outputs": [
    {
     "name": "stdout",
     "output_type": "stream",
     "text": [
      "die cannot give <= 0 or > 6\n"
     ]
    }
   ],
   "source": [
    "def advance_by(die_input):\n",
    "    if die_input <- 0:\n",
    "        raise ValueError('Not a valid number. Enter a number greater than 0.')\n",
    "    elif die_input > 6:\n",
    "        raise ValueError(\"Not a valid number. Enter a number less than or equal to 6.\")\n",
    "    else:\n",
    "        print('moved you by ' + str(die_input))\n",
    "        \n",
    "try:\n",
    "    advance_by(7)\n",
    "except ValueError:\n",
    "    print('die cannot give <= 0 or > 6')"
   ]
  },
  {
   "cell_type": "code",
   "execution_count": 32,
   "metadata": {},
   "outputs": [
    {
     "name": "stdout",
     "output_type": "stream",
     "text": [
      "Not a valid number. Enter a number less than or equal to 6.\n"
     ]
    }
   ],
   "source": [
    "try:\n",
    "    advance_by(7)\n",
    "except ValueError as err:\n",
    "    print(str(err))"
   ]
  },
  {
   "cell_type": "code",
   "execution_count": 33,
   "metadata": {},
   "outputs": [
    {
     "name": "stdout",
     "output_type": "stream",
     "text": [
      "Value <= 0\n"
     ]
    }
   ],
   "source": [
    "class DieInputError(Exception):\n",
    "    pass\n",
    "\n",
    "class DieInputLowerBoundError(Exception):\n",
    "    pass\n",
    "\n",
    "class DieInputUpperBoundError(Exception):\n",
    "    pass\n",
    "\n",
    "def advance_by(die_input):\n",
    "    if die_input <= 0:\n",
    "        raise DieInputLowerBoundError('Not a valid number. Enter a number greater than 0.')\n",
    "    elif die_input > 6:\n",
    "        raise DieInputUpperBoundError('Not a valid number. Enter a number less than or equal to 6.')\n",
    "    else:\n",
    "        print('moved you by ' + str(die_input))\n",
    "        \n",
    "try:\n",
    "    advance_by(0)\n",
    "except DieInputLowerBoundError:\n",
    "    print('Value <= 0')\n",
    "except DieInputUpperBoundError:\n",
    "    print('Value > 6')"
   ]
  }
 ],
 "metadata": {
  "kernelspec": {
   "display_name": "base",
   "language": "python",
   "name": "python3"
  },
  "language_info": {
   "codemirror_mode": {
    "name": "ipython",
    "version": 3
   },
   "file_extension": ".py",
   "mimetype": "text/x-python",
   "name": "python",
   "nbconvert_exporter": "python",
   "pygments_lexer": "ipython3",
   "version": "3.12.7"
  }
 },
 "nbformat": 4,
 "nbformat_minor": 2
}
