{
 "cells": [
  {
   "cell_type": "markdown",
   "metadata": {},
   "source": [
    "# Python Functions"
   ]
  },
  {
   "cell_type": "markdown",
   "metadata": {},
   "source": [
    "## 1. Introduction to Functions\n",
    "\n",
    "Functions:\n",
    "1. It takes one or more input values\n",
    "2. Performs the desired task\n",
    "3. Returns or produces the same output\n",
    "4. It can be called from other places in your code\n",
    "\n",
    "Types of functions:\n",
    "1. Built-in\n",
    "2. User-defined"
   ]
  },
  {
   "cell_type": "code",
   "execution_count": 1,
   "metadata": {},
   "outputs": [],
   "source": [
    "tuple_1 = (5, 10 , 15, 20)"
   ]
  },
  {
   "cell_type": "markdown",
   "metadata": {},
   "source": [
    "**1. Built-in**"
   ]
  },
  {
   "cell_type": "code",
   "execution_count": 2,
   "metadata": {},
   "outputs": [
    {
     "data": {
      "text/plain": [
       "5"
      ]
     },
     "execution_count": 2,
     "metadata": {},
     "output_type": "execute_result"
    }
   ],
   "source": [
    "min(tuple_1)"
   ]
  },
  {
   "cell_type": "code",
   "execution_count": 3,
   "metadata": {},
   "outputs": [
    {
     "data": {
      "text/plain": [
       "20"
      ]
     },
     "execution_count": 3,
     "metadata": {},
     "output_type": "execute_result"
    }
   ],
   "source": [
    "max(tuple_1)"
   ]
  },
  {
   "cell_type": "code",
   "execution_count": 4,
   "metadata": {},
   "outputs": [
    {
     "data": {
      "text/plain": [
       "4"
      ]
     },
     "execution_count": 4,
     "metadata": {},
     "output_type": "execute_result"
    }
   ],
   "source": [
    "len(tuple_1)"
   ]
  },
  {
   "cell_type": "code",
   "execution_count": 5,
   "metadata": {},
   "outputs": [
    {
     "name": "stdout",
     "output_type": "stream",
     "text": [
      "(5, 10, 15, 20)\n"
     ]
    }
   ],
   "source": [
    "print(tuple_1)"
   ]
  },
  {
   "cell_type": "markdown",
   "metadata": {},
   "source": [
    "**2. User-defined**"
   ]
  },
  {
   "cell_type": "code",
   "execution_count": 7,
   "metadata": {},
   "outputs": [
    {
     "name": "stdout",
     "output_type": "stream",
     "text": [
      "odd\n",
      "None\n"
     ]
    }
   ],
   "source": [
    "def even_or_odd(a):\n",
    "    if a % 2 == 0:\n",
    "        print(\"even\")\n",
    "    else:\n",
    "        print(\"odd\")\n",
    "    \n",
    "even_or_odd(5)"
   ]
  },
  {
   "cell_type": "code",
   "execution_count": 8,
   "metadata": {},
   "outputs": [
    {
     "name": "stdout",
     "output_type": "stream",
     "text": [
      "odd\n"
     ]
    }
   ],
   "source": [
    "def even_or_odd(a):\n",
    "    if a % 2 == 0:\n",
    "        return(\"even\")\n",
    "    else:\n",
    "        return(\"odd\")\n",
    "    \n",
    "r = even_or_odd(5)\n",
    "print(r)"
   ]
  },
  {
   "cell_type": "code",
   "execution_count": 10,
   "metadata": {},
   "outputs": [
    {
     "name": "stdout",
     "output_type": "stream",
     "text": [
      "odd\n",
      "None\n"
     ]
    }
   ],
   "source": [
    "def even_or_odd(a):\n",
    "    if a % 2 == 0:\n",
    "        print(\"even\")\n",
    "    else:\n",
    "        print(\"odd\")\n",
    "    \n",
    "r = even_or_odd(5)\n",
    "print(r)"
   ]
  },
  {
   "cell_type": "markdown",
   "metadata": {},
   "source": [
    "## 2. Default and Keyword Arguments"
   ]
  },
  {
   "cell_type": "code",
   "execution_count": 11,
   "metadata": {},
   "outputs": [
    {
     "data": {
      "text/plain": [
       "'Hello World!'"
      ]
     },
     "execution_count": 11,
     "metadata": {},
     "output_type": "execute_result"
    }
   ],
   "source": [
    "def greetings(greet, to):\n",
    "    return(greet + \" \" + to + \"!\")\n",
    "\n",
    "greetings(\"Hello\", \"World\")"
   ]
  },
  {
   "cell_type": "code",
   "execution_count": 12,
   "metadata": {},
   "outputs": [
    {
     "ename": "TypeError",
     "evalue": "greetings() missing 1 required positional argument: 'to'",
     "output_type": "error",
     "traceback": [
      "\u001b[1;31m---------------------------------------------------------------------------\u001b[0m",
      "\u001b[1;31mTypeError\u001b[0m                                 Traceback (most recent call last)",
      "Cell \u001b[1;32mIn[12], line 1\u001b[0m\n\u001b[1;32m----> 1\u001b[0m greetings(\u001b[38;5;124m\"\u001b[39m\u001b[38;5;124mHello\u001b[39m\u001b[38;5;124m\"\u001b[39m)\n",
      "\u001b[1;31mTypeError\u001b[0m: greetings() missing 1 required positional argument: 'to'"
     ]
    }
   ],
   "source": [
    "greetings(\"Hello\")"
   ]
  },
  {
   "cell_type": "code",
   "execution_count": 13,
   "metadata": {},
   "outputs": [
    {
     "data": {
      "text/plain": [
       "'Hello World!!'"
      ]
     },
     "execution_count": 13,
     "metadata": {},
     "output_type": "execute_result"
    }
   ],
   "source": [
    "def greetings(greet, to=\"World!\"):\n",
    "    return(greet + \" \" + to + \"!\")\n",
    "\n",
    "greetings(\"Hello\")"
   ]
  },
  {
   "cell_type": "code",
   "execution_count": 15,
   "metadata": {},
   "outputs": [
    {
     "data": {
      "text/plain": [
       "'Hello World!!'"
      ]
     },
     "execution_count": 15,
     "metadata": {},
     "output_type": "execute_result"
    }
   ],
   "source": [
    "def greetings(greet=\"Hello\", to=\"World!\"):\n",
    "    return(greet + \" \" + to + \"!\")\n",
    "\n",
    "greetings()"
   ]
  },
  {
   "cell_type": "code",
   "execution_count": 20,
   "metadata": {},
   "outputs": [
    {
     "data": {
      "text/plain": [
       "'Hey Nilesh!'"
      ]
     },
     "execution_count": 20,
     "metadata": {},
     "output_type": "execute_result"
    }
   ],
   "source": [
    "greetings(\"Hey\", \"Nilesh\")"
   ]
  },
  {
   "cell_type": "code",
   "execution_count": 19,
   "metadata": {},
   "outputs": [
    {
     "data": {
      "text/plain": [
       "'Nilesh World!!'"
      ]
     },
     "execution_count": 19,
     "metadata": {},
     "output_type": "execute_result"
    }
   ],
   "source": [
    "greetings(\"Nilesh\")"
   ]
  },
  {
   "cell_type": "code",
   "execution_count": 21,
   "metadata": {},
   "outputs": [
    {
     "data": {
      "text/plain": [
       "'Hello Nilesh!'"
      ]
     },
     "execution_count": 21,
     "metadata": {},
     "output_type": "execute_result"
    }
   ],
   "source": [
    "greetings(to=\"Nilesh\")"
   ]
  },
  {
   "cell_type": "code",
   "execution_count": 23,
   "metadata": {},
   "outputs": [
    {
     "data": {
      "text/plain": [
       "'Hi Nilesh!'"
      ]
     },
     "execution_count": 23,
     "metadata": {},
     "output_type": "execute_result"
    }
   ],
   "source": [
    "greetings(to=\"Nilesh\", greet='Hi')"
   ]
  },
  {
   "cell_type": "markdown",
   "metadata": {},
   "source": [
    "## 3. Variable Length Arguments"
   ]
  },
  {
   "cell_type": "code",
   "execution_count": 1,
   "metadata": {},
   "outputs": [
    {
     "name": "stdout",
     "output_type": "stream",
     "text": [
      "Order received for:  Nilesh\n",
      "Single unit items:  ['Bread', 'Tooth paste']\n"
     ]
    }
   ],
   "source": [
    "def grocery_order(customer_name, items):\n",
    "    print(\"Order received for: \", customer_name)\n",
    "    print(\"Single unit items: \", str(items))\n",
    "    \n",
    "grocery_order(\"Nilesh\", [\"Bread\", \"Tooth paste\"])"
   ]
  },
  {
   "cell_type": "code",
   "execution_count": 2,
   "metadata": {},
   "outputs": [
    {
     "name": "stdout",
     "output_type": "stream",
     "text": [
      "Order received for:  Nilesh\n",
      "Single unit items:  ('Bread', 'Tooth paste')\n"
     ]
    }
   ],
   "source": [
    "def grocery_order(customer_name, *items):\n",
    "    print(\"Order received for: \", customer_name)\n",
    "    print(\"Single unit items: \", str(items))\n",
    "    \n",
    "grocery_order(\"Nilesh\", \"Bread\", \"Tooth paste\")"
   ]
  },
  {
   "cell_type": "code",
   "execution_count": 3,
   "metadata": {},
   "outputs": [
    {
     "name": "stdout",
     "output_type": "stream",
     "text": [
      "Order received for:  Nilesh\n",
      "Single unit items:  ('Bread', 'Tooth paste')\n",
      "Delivery Type:  Home\n"
     ]
    }
   ],
   "source": [
    "def grocery_order(customer_name, *items, delivery_type = \"Home\"):\n",
    "    print(\"Order received for: \", customer_name)\n",
    "    print(\"Single unit items: \", str(items))\n",
    "    print(\"Delivery Type: \", delivery_type)\n",
    "    \n",
    "grocery_order(\"Nilesh\", \"Bread\", \"Tooth paste\")"
   ]
  },
  {
   "cell_type": "code",
   "execution_count": 4,
   "metadata": {},
   "outputs": [
    {
     "name": "stdout",
     "output_type": "stream",
     "text": [
      "Order received for:  Nilesh\n",
      "Single unit items:  ('Bread', 'Tooth paste')\n",
      "Delivery Type:  Pickup\n"
     ]
    }
   ],
   "source": [
    "grocery_order(\"Nilesh\", \"Bread\", \"Tooth paste\", delivery_type = \"Pickup\")"
   ]
  },
  {
   "cell_type": "code",
   "execution_count": 5,
   "metadata": {},
   "outputs": [
    {
     "name": "stdout",
     "output_type": "stream",
     "text": [
      "Order received for:  Nilesh\n",
      "Single unit items:  ('Tooth paste',)\n",
      "Delivery Type:  Bread\n"
     ]
    }
   ],
   "source": [
    "def grocery_order(customer_name, delivery_type = \"Home\", *items):\n",
    "    print(\"Order received for: \", customer_name)\n",
    "    print(\"Single unit items: \", str(items))\n",
    "    print(\"Delivery Type: \", delivery_type)\n",
    "    \n",
    "grocery_order(\"Nilesh\", \"Bread\", \"Tooth paste\")"
   ]
  },
  {
   "cell_type": "code",
   "execution_count": 6,
   "metadata": {},
   "outputs": [
    {
     "ename": "SyntaxError",
     "evalue": "positional argument follows keyword argument (172618107.py, line 1)",
     "output_type": "error",
     "traceback": [
      "\u001b[1;36m  Cell \u001b[1;32mIn[6], line 1\u001b[1;36m\u001b[0m\n\u001b[1;33m    grocery_order(\"Nilesh\", delivery_type=\"Home\", \"Bread\", \"Tooth paste\")\u001b[0m\n\u001b[1;37m                                                                        ^\u001b[0m\n\u001b[1;31mSyntaxError\u001b[0m\u001b[1;31m:\u001b[0m positional argument follows keyword argument\n"
     ]
    }
   ],
   "source": [
    "grocery_order(\"Nilesh\", delivery_type=\"Home\", \"Bread\", \"Tooth paste\")"
   ]
  },
  {
   "cell_type": "code",
   "execution_count": 7,
   "metadata": {},
   "outputs": [
    {
     "ename": "TypeError",
     "evalue": "grocery_order() missing 1 required keyword-only argument: 'items_with_qty'",
     "output_type": "error",
     "traceback": [
      "\u001b[1;31m---------------------------------------------------------------------------\u001b[0m",
      "\u001b[1;31mTypeError\u001b[0m                                 Traceback (most recent call last)",
      "Cell \u001b[1;32mIn[7], line 10\u001b[0m\n\u001b[0;32m      7\u001b[0m     \u001b[38;5;28;01mif\u001b[39;00m \u001b[38;5;124m'\u001b[39m\u001b[38;5;124meggs\u001b[39m\u001b[38;5;124m'\u001b[39m \u001b[38;5;129;01min\u001b[39;00m items_with_qty:\n\u001b[0;32m      8\u001b[0m         \u001b[38;5;28mprint\u001b[39m(\u001b[38;5;124m\"\u001b[39m\u001b[38;5;124mNote: Handle with care.\u001b[39m\u001b[38;5;124m\"\u001b[39m)\n\u001b[1;32m---> 10\u001b[0m grocery_order(\u001b[38;5;124m\"\u001b[39m\u001b[38;5;124mNilesh\u001b[39m\u001b[38;5;124m\"\u001b[39m, \u001b[38;5;124m\"\u001b[39m\u001b[38;5;124mBread\u001b[39m\u001b[38;5;124m\"\u001b[39m, \u001b[38;5;124m\"\u001b[39m\u001b[38;5;124mTooth paste\u001b[39m\u001b[38;5;124m\"\u001b[39m, \u001b[38;5;28mdict\u001b[39m(eggs\u001b[38;5;241m=\u001b[39m\u001b[38;5;241m12\u001b[39m, milk\u001b[38;5;241m=\u001b[39m\u001b[38;5;124m\"\u001b[39m\u001b[38;5;124m1 ltr\u001b[39m\u001b[38;5;124m\"\u001b[39m))\n",
      "\u001b[1;31mTypeError\u001b[0m: grocery_order() missing 1 required keyword-only argument: 'items_with_qty'"
     ]
    }
   ],
   "source": [
    "def grocery_order(customer_name, *items, items_with_qty, delivery_type=\"Home\"):\n",
    "    print(\"Order received for: \", customer_name)\n",
    "    print(\"Single unit items: \", str(items))\n",
    "    print(\"Other Items: \", str(items_with_qty))\n",
    "    print(\"Delivery Type: \", delivery_type)\n",
    "    \n",
    "    if 'eggs' in items_with_qty:\n",
    "        print(\"Note: Handle with care.\")\n",
    "        \n",
    "grocery_order(\"Nilesh\", \"Bread\", \"Tooth paste\", dict(eggs=12, milk=\"1 ltr\"))"
   ]
  },
  {
   "cell_type": "code",
   "execution_count": 8,
   "metadata": {},
   "outputs": [
    {
     "name": "stdout",
     "output_type": "stream",
     "text": [
      "Order received for:  Nilesh\n",
      "Single unit items:  ('Bread', 'Tooth paste')\n",
      "Other Items:  {'eggs': 12, 'milk': '1 ltr'}\n",
      "Delivery Type:  Home\n",
      "Note: Handle with care.\n"
     ]
    }
   ],
   "source": [
    "grocery_order(\"Nilesh\", \"Bread\", \"Tooth paste\", items_with_qty = dict(eggs=12, milk=\"1 ltr\"))"
   ]
  },
  {
   "cell_type": "code",
   "execution_count": 9,
   "metadata": {},
   "outputs": [
    {
     "name": "stdout",
     "output_type": "stream",
     "text": [
      "Order received for:  Nilesh\n",
      "Single unit items:  ('Bread', 'Tooth paste')\n",
      "Other Items:  None\n",
      "Delivery Type:  Home\n"
     ]
    }
   ],
   "source": [
    "def grocery_order(customer_name, *items, items_with_qty=None, delivery_type=\"Home\"):\n",
    "    print(\"Order received for: \", customer_name)\n",
    "    print(\"Single unit items: \", str(items))\n",
    "    print(\"Other Items: \", str(items_with_qty))\n",
    "    print(\"Delivery Type: \", delivery_type)\n",
    "    \n",
    "grocery_order(\"Nilesh\", \"Bread\", \"Tooth paste\")"
   ]
  },
  {
   "cell_type": "code",
   "execution_count": 10,
   "metadata": {},
   "outputs": [
    {
     "name": "stdout",
     "output_type": "stream",
     "text": [
      "Order received for:  Nilesh\n",
      "Single unit items:  ('Bread', 'Tooth paste')\n",
      "Other Items:  {'eggs': 12, 'milk': '1 ltr'}\n",
      "Delivery Type:  Pickup\n",
      "Note: Handle with care.\n"
     ]
    }
   ],
   "source": [
    "def grocery_order(customer_name, *items, delivery_type=\"Home\", **items_with_qty):\n",
    "    print(\"Order received for: \", customer_name)\n",
    "    print(\"Single unit items: \", str(items))\n",
    "    print(\"Other Items: \", str(items_with_qty))\n",
    "    print(\"Delivery Type: \", delivery_type)\n",
    "    \n",
    "    if 'eggs' in items_with_qty:\n",
    "        print(\"Note: Handle with care.\")\n",
    "        \n",
    "grocery_order(\"Nilesh\", \"Bread\", \"Tooth paste\", eggs=12, milk=\"1 ltr\", delivery_type=\"Pickup\")"
   ]
  },
  {
   "cell_type": "markdown",
   "metadata": {},
   "source": [
    "## 4. Unpacking Function Arguments"
   ]
  },
  {
   "cell_type": "code",
   "execution_count": 11,
   "metadata": {},
   "outputs": [
    {
     "name": "stdout",
     "output_type": "stream",
     "text": [
      "Order received for:  Nilesh\n",
      "Single unit items:  ('Bread', 'Tooth paste')\n",
      "Delivery Type:  Pickup\n"
     ]
    }
   ],
   "source": [
    "def grocery_order(customer_name, *items, delivery_type = \"Home\"):\n",
    "    print(\"Order received for: \", customer_name)\n",
    "    print(\"Single unit items: \", str(items))\n",
    "    print(\"Delivery Type: \", delivery_type)\n",
    "    \n",
    "argList = [\"Bread\", \"Tooth paste\"]\n",
    "\n",
    "grocery_order(\"Nilesh\", *argList, delivery_type=\"Pickup\")"
   ]
  },
  {
   "cell_type": "code",
   "execution_count": 12,
   "metadata": {},
   "outputs": [
    {
     "name": "stdout",
     "output_type": "stream",
     "text": [
      "Order received for:  Nilesh\n",
      "Other Items:  {'eggs': 12, 'milk': '1 ltr'}\n",
      "Delivery Type:  Pickup\n",
      "Note: Handle with care.\n"
     ]
    }
   ],
   "source": [
    "def grocery_order(customer_name, delivery_type=\"Home\", **items_with_qty):\n",
    "    print(\"Order received for: \", customer_name)\n",
    "    print(\"Other Items: \", str(items_with_qty))\n",
    "    print(\"Delivery Type: \", delivery_type)\n",
    "    \n",
    "    if 'eggs' in items_with_qty:\n",
    "        print(\"Note: Handle with care.\")\n",
    "        \n",
    "grocery_order(\"Nilesh\", eggs = 12, milk = \"1 ltr\", delivery_type=\"Pickup\")"
   ]
  },
  {
   "cell_type": "code",
   "execution_count": 13,
   "metadata": {},
   "outputs": [
    {
     "name": "stdout",
     "output_type": "stream",
     "text": [
      "Order received for:  Nilesh\n",
      "Other Items:  {'eggs': 12, 'milk': '1 ltr'}\n",
      "Delivery Type:  Pickup\n",
      "Note: Handle with care.\n"
     ]
    }
   ],
   "source": [
    "argsDict = dict(eggs = 12, milk = \"1 ltr\")\n",
    "grocery_order(\"Nilesh\", **argsDict, delivery_type=\"Pickup\")"
   ]
  },
  {
   "cell_type": "code",
   "execution_count": 14,
   "metadata": {},
   "outputs": [
    {
     "name": "stdout",
     "output_type": "stream",
     "text": [
      "Order received for:  Nilesh\n",
      "Other Items:  {'eggs': 12, 'milk': '1 ltr'}\n",
      "Delivery Type:  Pickup\n",
      "Note: Handle with care.\n"
     ]
    }
   ],
   "source": [
    "def grocery_order(customer_name, *items, delivery_type=\"Home\", **items_with_qty):\n",
    "    print(\"Order received for: \", customer_name)\n",
    "    print(\"Other Items: \", str(items_with_qty))\n",
    "    print(\"Delivery Type: \", delivery_type)\n",
    "    \n",
    "    if 'eggs' in items_with_qty:\n",
    "        print(\"Note: Handle with care.\")\n",
    "        \n",
    "argsList = [\"Bread\", \"Tooth paste\"]\n",
    "argsDict = dict(eggs=12, milk=\"1 ltr\")\n",
    "grocery_order(\"Nilesh\", *argsList, **argsDict, delivery_type=\"Pickup\")"
   ]
  },
  {
   "cell_type": "markdown",
   "metadata": {},
   "source": [
    "## 5. Lambda Functions\n",
    "`lambda arguments: expression`"
   ]
  },
  {
   "cell_type": "code",
   "execution_count": 16,
   "metadata": {},
   "outputs": [
    {
     "data": {
      "text/plain": [
       "<function __main__.<lambda>(x, y)>"
      ]
     },
     "execution_count": 16,
     "metadata": {},
     "output_type": "execute_result"
    }
   ],
   "source": [
    "lambda x, y : x + y"
   ]
  },
  {
   "cell_type": "code",
   "execution_count": 17,
   "metadata": {},
   "outputs": [
    {
     "ename": "SyntaxError",
     "evalue": "invalid syntax (2310418749.py, line 1)",
     "output_type": "error",
     "traceback": [
      "\u001b[1;36m  Cell \u001b[1;32mIn[17], line 1\u001b[1;36m\u001b[0m\n\u001b[1;33m    lambda x, y : return x + y\u001b[0m\n\u001b[1;37m                  ^\u001b[0m\n\u001b[1;31mSyntaxError\u001b[0m\u001b[1;31m:\u001b[0m invalid syntax\n"
     ]
    }
   ],
   "source": [
    "lambda x, y : return x + y"
   ]
  },
  {
   "cell_type": "code",
   "execution_count": 18,
   "metadata": {},
   "outputs": [
    {
     "ename": "SyntaxError",
     "evalue": "invalid syntax (1011825152.py, line 1)",
     "output_type": "error",
     "traceback": [
      "\u001b[1;36m  Cell \u001b[1;32mIn[18], line 1\u001b[1;36m\u001b[0m\n\u001b[1;33m    lambda x, y :\u001b[0m\n\u001b[1;37m                 ^\u001b[0m\n\u001b[1;31mSyntaxError\u001b[0m\u001b[1;31m:\u001b[0m invalid syntax\n"
     ]
    }
   ],
   "source": [
    "lambda x, y :\n",
    "    x + y"
   ]
  },
  {
   "cell_type": "code",
   "execution_count": 19,
   "metadata": {},
   "outputs": [
    {
     "data": {
      "text/plain": [
       "8"
      ]
     },
     "execution_count": 19,
     "metadata": {},
     "output_type": "execute_result"
    }
   ],
   "source": [
    "f = lambda x, y : x + y\n",
    "f(5, 3)"
   ]
  },
  {
   "cell_type": "code",
   "execution_count": 20,
   "metadata": {},
   "outputs": [
    {
     "data": {
      "text/plain": [
       "21"
      ]
     },
     "execution_count": 20,
     "metadata": {},
     "output_type": "execute_result"
    }
   ],
   "source": [
    "def apply_ops(*args, ops):\n",
    "    return ops(args)\n",
    "\n",
    "apply_ops(2, 3, 7, 9, ops=sum)"
   ]
  },
  {
   "cell_type": "code",
   "execution_count": 21,
   "metadata": {},
   "outputs": [
    {
     "data": {
      "text/plain": [
       "4"
      ]
     },
     "execution_count": 21,
     "metadata": {},
     "output_type": "execute_result"
    }
   ],
   "source": [
    "apply_ops(2, 3, 7, 9, ops=len)"
   ]
  },
  {
   "cell_type": "code",
   "execution_count": 22,
   "metadata": {},
   "outputs": [
    {
     "data": {
      "text/plain": [
       "9"
      ]
     },
     "execution_count": 22,
     "metadata": {},
     "output_type": "execute_result"
    }
   ],
   "source": [
    "apply_ops(2, 3, 7, 9, ops=max)"
   ]
  },
  {
   "cell_type": "code",
   "execution_count": 23,
   "metadata": {},
   "outputs": [
    {
     "data": {
      "text/plain": [
       "[19, 13, 7]"
      ]
     },
     "execution_count": 23,
     "metadata": {},
     "output_type": "execute_result"
    }
   ],
   "source": [
    "num_list = [[2, 8 ,11], [4, 5, 7, 12], [8, 9, 10, 11], [19, 13, 7], [2, 5, 16]]\n",
    "\n",
    "max(num_list)"
   ]
  },
  {
   "cell_type": "code",
   "execution_count": 24,
   "metadata": {},
   "outputs": [
    {
     "data": {
      "text/plain": [
       "[19, 13, 7]"
      ]
     },
     "execution_count": 24,
     "metadata": {},
     "output_type": "execute_result"
    }
   ],
   "source": [
    "max(num_list, key=sum)"
   ]
  },
  {
   "cell_type": "code",
   "execution_count": 25,
   "metadata": {},
   "outputs": [
    {
     "data": {
      "text/plain": [
       "[2, 5, 16]"
      ]
     },
     "execution_count": 25,
     "metadata": {},
     "output_type": "execute_result"
    }
   ],
   "source": [
    "max(num_list, key=lambda x : x[2])"
   ]
  },
  {
   "cell_type": "markdown",
   "metadata": {},
   "source": [
    "`map(function, iterable, ...)`"
   ]
  },
  {
   "cell_type": "code",
   "execution_count": 26,
   "metadata": {},
   "outputs": [
    {
     "name": "stdout",
     "output_type": "stream",
     "text": [
      "[4, 64, 121, 16, 25, 49, 144]\n"
     ]
    }
   ],
   "source": [
    "num_list = [2, 8, 11, 4, 5, 7, 12]\n",
    "\n",
    "l = map(lambda x : x * x, num_list)\n",
    "print(list(l))"
   ]
  }
 ],
 "metadata": {
  "kernelspec": {
   "display_name": "base",
   "language": "python",
   "name": "python3"
  },
  "language_info": {
   "codemirror_mode": {
    "name": "ipython",
    "version": 3
   },
   "file_extension": ".py",
   "mimetype": "text/x-python",
   "name": "python",
   "nbconvert_exporter": "python",
   "pygments_lexer": "ipython3",
   "version": "3.12.7"
  }
 },
 "nbformat": 4,
 "nbformat_minor": 2
}
