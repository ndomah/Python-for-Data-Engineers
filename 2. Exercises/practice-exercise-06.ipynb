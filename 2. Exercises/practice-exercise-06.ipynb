{
 "cells": [
  {
   "cell_type": "markdown",
   "metadata": {},
   "source": [
    "# Practice Exercise - 06"
   ]
  },
  {
   "cell_type": "markdown",
   "metadata": {},
   "source": [
    "### Question 1:\n",
    "\n",
    "Write a Python function to check whether the number given below is present in between 5 to 10 (both included) or not.\n",
    "\n",
    "num = 7\n",
    "\n",
    "#### Expected Output:\n",
    "\n",
    "7 is present between 5-10."
   ]
  },
  {
   "cell_type": "code",
   "execution_count": 3,
   "metadata": {},
   "outputs": [
    {
     "name": "stdout",
     "output_type": "stream",
     "text": [
      "7 is present between 5-10\n"
     ]
    }
   ],
   "source": [
    "num = 7\n",
    "\n",
    "def in_range(my_num):\n",
    "    if my_num in range(5, 11):\n",
    "        print(f\"{my_num} is present between 5-10\")\n",
    "    else:\n",
    "        print(f\"{my_num} is not present between 5-10\")\n",
    "        \n",
    "in_range(num)"
   ]
  },
  {
   "cell_type": "markdown",
   "metadata": {},
   "source": [
    "### Question 2:\n",
    "\n",
    "Write a Python function that accepts two arguments and calculates the addition and subtraction of it. Also, print both the arithmetic results in a single return call. \n",
    "\n",
    "#### Expected Output:\n",
    "\n",
    "(Addition, Substraction) :  (50, 30)"
   ]
  },
  {
   "cell_type": "code",
   "execution_count": 4,
   "metadata": {},
   "outputs": [
    {
     "name": "stdout",
     "output_type": "stream",
     "text": [
      "(Addition, Subtraction) : (50, 30)\n"
     ]
    }
   ],
   "source": [
    "def add_and_subtract(a, b):\n",
    "    addition = a + b\n",
    "    subtraction = a - b\n",
    "    return (addition, subtraction)\n",
    "\n",
    "result = add_and_subtract(40, 10)\n",
    "print(\"(Addition, Subtraction) :\", result)"
   ]
  },
  {
   "cell_type": "markdown",
   "metadata": {},
   "source": [
    "### Question 3:\n",
    "\n",
    "Create a function in Python that displays the name and results of a candidate. The function should accept the candidate's name and his/her results as \"Pass/Fail.\" If the result is missing in the function call, show it as \"Pass.\"\n",
    "\n",
    "#### Expected Output:\n",
    "\n",
    "Sam is Pass.\n",
    "<br>Judy is Fail."
   ]
  },
  {
   "cell_type": "code",
   "execution_count": 6,
   "metadata": {},
   "outputs": [
    {
     "name": "stdout",
     "output_type": "stream",
     "text": [
      "Sam is Pass.\n",
      "Judy is Fail.\n"
     ]
    }
   ],
   "source": [
    "def display_result(name, result=\"Pass\"):\n",
    "    print(f\"{name} is {result}.\")\n",
    "    \n",
    "display_result(\"Sam\")\n",
    "display_result(\"Judy\", \"Fail\")"
   ]
  },
  {
   "cell_type": "markdown",
   "metadata": {},
   "source": [
    "### Question 4:\n",
    "\n",
    "We have a list of numbers given below. Write a Python function to print all the odd-indexed items from the list.\n",
    "\n",
    "n = [2, 3, 5, 6, 8, 9]\n",
    "\n",
    "#### Expected Output:\n",
    "\n",
    "(3, 6, 9)"
   ]
  },
  {
   "cell_type": "code",
   "execution_count": 7,
   "metadata": {},
   "outputs": [
    {
     "name": "stdout",
     "output_type": "stream",
     "text": [
      "(3, 6, 9)\n"
     ]
    }
   ],
   "source": [
    "n = [2, 3, 5, 6, 8, 9]\n",
    "\n",
    "def odd_indexed_items(numbers):\n",
    "    return tuple(numbers[i] for i in range(1, len(numbers), 2))\n",
    "\n",
    "print(odd_indexed_items(n))"
   ]
  },
  {
   "cell_type": "markdown",
   "metadata": {},
   "source": [
    "### Question 5:\n",
    "\n",
    "We have the names of six countries given below. Write a Python function to print all the countries that start with the letter 'A.'\n",
    "\n",
    "'Australia', 'India', 'Austria', 'America', 'Russia', 'Iran'\n",
    "\n",
    "#### Expected Output:\n",
    "\n",
    "['Australia', 'Austria', 'America']"
   ]
  },
  {
   "cell_type": "code",
   "execution_count": 8,
   "metadata": {},
   "outputs": [
    {
     "name": "stdout",
     "output_type": "stream",
     "text": [
      "['Australia', 'Austria', 'America']\n"
     ]
    }
   ],
   "source": [
    "def countries_starting_with_a(countries):\n",
    "    return [country for country in countries if country.startswith(\"A\")]\n",
    "\n",
    "countries = ['Australia', 'India', 'Austria', 'America', 'Russia', 'Iran']\n",
    "print(countries_starting_with_a(countries))"
   ]
  },
  {
   "cell_type": "markdown",
   "metadata": {},
   "source": [
    "### Question 6:\n",
    "\n",
    "A list of tuples is given below, containing the candidate's name and their heights(in cm). Sort this list using Lambda functions according to the heights of the candidates.\n",
    "\n",
    "candidate_details = [('Harry', 168), ('Jhonny', 160), ('Brad', 178), ('Chris', 172)]\n",
    "\n",
    "#### Expected Output:\n",
    "\n",
    "[('Jhonny', 160), ('Harry', 168), ('Chris', 172), ('Brad', 178)]"
   ]
  },
  {
   "cell_type": "code",
   "execution_count": 10,
   "metadata": {},
   "outputs": [
    {
     "name": "stdout",
     "output_type": "stream",
     "text": [
      "[('Jhonny', 160), ('Harry', 168), ('Chris', 172), ('Brad', 178)]\n"
     ]
    }
   ],
   "source": [
    "candidate_details = [('Harry', 168), ('Jhonny', 160), ('Brad', 178), ('Chris', 172)]\n",
    "\n",
    "sorted_candidates = sorted(candidate_details, key=lambda x: x[1])\n",
    "print(sorted_candidates)"
   ]
  },
  {
   "cell_type": "markdown",
   "metadata": {},
   "source": [
    "### Question 7:\n",
    "\n",
    "Write a Python function to find 'Mall' from the dictionary 'map_details' given below.\n",
    "\n",
    "map_details = {101:'Park', 102:'Zoo', 103:'Mall'}\n",
    "\n",
    "#### Expected Output:\n",
    "\n",
    "103"
   ]
  },
  {
   "cell_type": "code",
   "execution_count": 11,
   "metadata": {},
   "outputs": [
    {
     "name": "stdout",
     "output_type": "stream",
     "text": [
      "103\n"
     ]
    }
   ],
   "source": [
    "def find_mall(map_details):\n",
    "    for key, value in map_details.items():\n",
    "        if value == \"Mall\":\n",
    "            return key\n",
    "    return None\n",
    "\n",
    "map_details = {101:'Park', 102:'Zoo', 103:'Mall'}\n",
    "print(find_mall(map_details))"
   ]
  },
  {
   "cell_type": "markdown",
   "metadata": {},
   "source": [
    "### Question 8:\n",
    "\n",
    "Write a Python program to add the three lists given below using Python map and Lambda function.\n",
    "\n",
    "list_1 = [1, 5, 8]\n",
    "<br>list_2 = [3, 2, 5]\n",
    "<br>list_3 = [2, 3, 6]\n",
    "\n",
    "#### Expected Output:\n",
    "\n",
    "Resultant List: [6, 10, 19]"
   ]
  },
  {
   "cell_type": "code",
   "execution_count": 12,
   "metadata": {},
   "outputs": [
    {
     "name": "stdout",
     "output_type": "stream",
     "text": [
      "Resultant List:  [6, 10, 19]\n"
     ]
    }
   ],
   "source": [
    "list_1 = [1, 5, 8]\n",
    "list_2 = [3, 2, 5]\n",
    "list_3 = [2, 3, 6]\n",
    "\n",
    "resultant_list = list(map(lambda x, y, z: x + y + z, list_1, list_2, list_3))\n",
    "print(\"Resultant List: \", resultant_list)"
   ]
  },
  {
   "cell_type": "markdown",
   "metadata": {},
   "source": [
    "### Question 9:\n",
    "\n",
    "We have the marks of a student in each subject given below. Write a Python function that takes two parameters 'name' and 'subjects_marks.' Finally, print the student's name and all the subjects in which his/her marks are above 60. If the 'name' is not provided, print 'None.' \n",
    "\n",
    "Mathematics = 80, Physics = 58, Chemistry = 62, English = 72, Biology = 50\n",
    "\n",
    "#### Expected Output:\n",
    "\n",
    "Name:  Brandon - Subjects:  {'Chemistry', 'English', 'Mathematics'}"
   ]
  },
  {
   "cell_type": "code",
   "execution_count": 13,
   "metadata": {},
   "outputs": [
    {
     "name": "stdout",
     "output_type": "stream",
     "text": [
      "Name: Brandon - Subjects: {'Chemistry', 'English', 'Mathematics'}\n"
     ]
    }
   ],
   "source": [
    "def student_subjects_above_60(name=None, subjects_marks={}):\n",
    "    if name is None:\n",
    "        print(\"Name: None\")\n",
    "        return\n",
    "    subjects_above_60 = {subject for subject, marks in subjects_marks.items() if marks > 60}\n",
    "\n",
    "    print(f\"Name: {name} - Subjects: {subjects_above_60}\")\n",
    "\n",
    "subjects_marks = {\n",
    "    \"Mathematics\": 80,\n",
    "    \"Physics\": 58,\n",
    "    \"Chemistry\": 62,\n",
    "    \"English\": 72,\n",
    "    \"Biology\": 50\n",
    "}\n",
    "student_subjects_above_60(\"Brandon\", subjects_marks)"
   ]
  },
  {
   "cell_type": "markdown",
   "metadata": {},
   "source": [
    "### Question 10:\n",
    "\n",
    "Using Lambda function, extract and print the year from the datetime object given below.\n",
    "\n",
    "given_date = datetime(2008, 6, 12, 10, 30, 0)\n",
    "\n",
    "#### Expected Output:\n",
    "\n",
    "2008"
   ]
  },
  {
   "cell_type": "code",
   "execution_count": 14,
   "metadata": {},
   "outputs": [
    {
     "name": "stdout",
     "output_type": "stream",
     "text": [
      "2008\n"
     ]
    }
   ],
   "source": [
    "from datetime import datetime\n",
    "\n",
    "given_date = datetime(2008, 6, 12, 10, 30, 0)\n",
    "extract_year = lambda date: date.year\n",
    "print(extract_year(given_date))"
   ]
  }
 ],
 "metadata": {
  "kernelspec": {
   "display_name": "base",
   "language": "python",
   "name": "python3"
  },
  "language_info": {
   "codemirror_mode": {
    "name": "ipython",
    "version": 3
   },
   "file_extension": ".py",
   "mimetype": "text/x-python",
   "name": "python",
   "nbconvert_exporter": "python",
   "pygments_lexer": "ipython3",
   "version": "3.12.7"
  }
 },
 "nbformat": 4,
 "nbformat_minor": 4
}
