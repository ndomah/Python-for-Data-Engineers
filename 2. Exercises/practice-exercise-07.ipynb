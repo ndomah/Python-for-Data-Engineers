{
 "cells": [
  {
   "cell_type": "markdown",
   "metadata": {},
   "source": [
    "# Practice Exercise - 07"
   ]
  },
  {
   "cell_type": "markdown",
   "metadata": {},
   "source": [
    "### Question 1:\n",
    "\n",
    "We have defined a variable x equals 2. Then we have the if-else condition, which checks if x is equal to 2 or not. But we get an error in the output. Decode the error and rectify the program to get the expected output.\n",
    "\n",
    "#### Expected Output:\n",
    "\n",
    "Exact match!"
   ]
  },
  {
   "cell_type": "code",
   "execution_count": 4,
   "metadata": {},
   "outputs": [
    {
     "ename": "SyntaxError",
     "evalue": "invalid syntax. Maybe you meant '==' or ':=' instead of '='? (4276668515.py, line 3)",
     "output_type": "error",
     "traceback": [
      "\u001b[1;36m  Cell \u001b[1;32mIn[4], line 3\u001b[1;36m\u001b[0m\n\u001b[1;33m    if x = 2:\u001b[0m\n\u001b[1;37m       ^\u001b[0m\n\u001b[1;31mSyntaxError\u001b[0m\u001b[1;31m:\u001b[0m invalid syntax. Maybe you meant '==' or ':=' instead of '='?\n"
     ]
    }
   ],
   "source": [
    "x = 2\n",
    "\n",
    "if x = 2:\n",
    "    print('Exact match!')\n",
    "else:\n",
    "    print('Not a match!')"
   ]
  },
  {
   "cell_type": "code",
   "execution_count": 7,
   "metadata": {},
   "outputs": [
    {
     "name": "stdout",
     "output_type": "stream",
     "text": [
      "Exact match!\n"
     ]
    }
   ],
   "source": [
    "x = 2\n",
    "\n",
    "if x == 2:\n",
    "    print('Exact match!')\n",
    "else:\n",
    "    print('Not a match!')"
   ]
  },
  {
   "cell_type": "markdown",
   "metadata": {},
   "source": [
    "### Question 2:\n",
    "\n",
    "There is a message given below. When we try to print the message, we are getting a syntax error. Look at the error and rectify it.\n",
    "\n",
    "<br>msg = 'Don't run in the park.'\n",
    "\n",
    "#### Expected Output:\n",
    "\n",
    "Don't run in the park."
   ]
  },
  {
   "cell_type": "code",
   "execution_count": 5,
   "metadata": {},
   "outputs": [
    {
     "ename": "SyntaxError",
     "evalue": "unterminated string literal (detected at line 1) (2769719656.py, line 1)",
     "output_type": "error",
     "traceback": [
      "\u001b[1;36m  Cell \u001b[1;32mIn[5], line 1\u001b[1;36m\u001b[0m\n\u001b[1;33m    msg = 'Don't run in the park.'\u001b[0m\n\u001b[1;37m                                 ^\u001b[0m\n\u001b[1;31mSyntaxError\u001b[0m\u001b[1;31m:\u001b[0m unterminated string literal (detected at line 1)\n"
     ]
    }
   ],
   "source": [
    "msg = 'Don't run in the park.'\n",
    "\n",
    "print(msg)"
   ]
  },
  {
   "cell_type": "code",
   "execution_count": 8,
   "metadata": {},
   "outputs": [
    {
     "name": "stdout",
     "output_type": "stream",
     "text": [
      "Don't run in the park.\n"
     ]
    }
   ],
   "source": [
    "msg = \"Don't run in the park.\"\n",
    "\n",
    "print(msg)"
   ]
  },
  {
   "cell_type": "markdown",
   "metadata": {},
   "source": [
    "### Question 3:\n",
    "\n",
    "We have a program given below that generates an *AttributeError* exception. Make changes in the program to handle this exception and print the message *'An error occured.'*\n",
    "\n",
    "#### Expected Output:\n",
    "\n",
    "An error occurred."
   ]
  },
  {
   "cell_type": "code",
   "execution_count": 6,
   "metadata": {},
   "outputs": [
    {
     "ename": "AttributeError",
     "evalue": "'tuple' object has no attribute 'append'",
     "output_type": "error",
     "traceback": [
      "\u001b[1;31m---------------------------------------------------------------------------\u001b[0m",
      "\u001b[1;31mAttributeError\u001b[0m                            Traceback (most recent call last)",
      "Cell \u001b[1;32mIn[6], line 2\u001b[0m\n\u001b[0;32m      1\u001b[0m num \u001b[38;5;241m=\u001b[39m (\u001b[38;5;241m5\u001b[39m, \u001b[38;5;241m7\u001b[39m, \u001b[38;5;241m9\u001b[39m, \u001b[38;5;241m11\u001b[39m)\n\u001b[1;32m----> 2\u001b[0m num\u001b[38;5;241m.\u001b[39mappend(\u001b[38;5;241m13\u001b[39m)\n",
      "\u001b[1;31mAttributeError\u001b[0m: 'tuple' object has no attribute 'append'"
     ]
    }
   ],
   "source": [
    "num = (5, 7, 9, 11)\n",
    "num.append(13)"
   ]
  },
  {
   "cell_type": "code",
   "execution_count": 9,
   "metadata": {},
   "outputs": [
    {
     "name": "stdout",
     "output_type": "stream",
     "text": [
      "An error occured.\n"
     ]
    }
   ],
   "source": [
    "try:\n",
    "    num = (5, 7, 9, 11)\n",
    "    num.append(13)\n",
    "except AttributeError:\n",
    "    print('An error occured.')"
   ]
  },
  {
   "cell_type": "markdown",
   "metadata": {},
   "source": [
    "### Question 4:\n",
    "\n",
    "We have a function given below which prints an element from the list. But what if the user calls an invalid index? So, I want you to re-write the following function using the try-except block to handle the *IndexError* exception.\n",
    "\n",
    "#### Expected Output:\n",
    "\n",
    "Invalid index, try again."
   ]
  },
  {
   "cell_type": "code",
   "execution_count": 4,
   "metadata": {},
   "outputs": [
    {
     "ename": "IndexError",
     "evalue": "list index out of range",
     "output_type": "error",
     "traceback": [
      "\u001b[1;31m---------------------------------------------------------------------------\u001b[0m",
      "\u001b[1;31mIndexError\u001b[0m                                Traceback (most recent call last)",
      "\u001b[1;32m<ipython-input-4-3f866dd6b0a3>\u001b[0m in \u001b[0;36m<module>\u001b[1;34m\u001b[0m\n\u001b[0;32m      4\u001b[0m \u001b[0mnames\u001b[0m \u001b[1;33m=\u001b[0m \u001b[1;33m[\u001b[0m\u001b[1;34m'Alpha'\u001b[0m\u001b[1;33m,\u001b[0m \u001b[1;34m'Victor'\u001b[0m\u001b[1;33m,\u001b[0m \u001b[1;34m'Charles'\u001b[0m\u001b[1;33m]\u001b[0m\u001b[1;33m\u001b[0m\u001b[1;33m\u001b[0m\u001b[0m\n\u001b[0;32m      5\u001b[0m \u001b[1;33m\u001b[0m\u001b[0m\n\u001b[1;32m----> 6\u001b[1;33m \u001b[0mgetData\u001b[0m\u001b[1;33m(\u001b[0m\u001b[0mnames\u001b[0m\u001b[1;33m,\u001b[0m \u001b[1;36m5\u001b[0m\u001b[1;33m)\u001b[0m\u001b[1;33m\u001b[0m\u001b[1;33m\u001b[0m\u001b[0m\n\u001b[0m",
      "\u001b[1;32m<ipython-input-4-3f866dd6b0a3>\u001b[0m in \u001b[0;36mgetData\u001b[1;34m(data, index)\u001b[0m\n\u001b[0;32m      1\u001b[0m \u001b[1;32mdef\u001b[0m \u001b[0mgetData\u001b[0m\u001b[1;33m(\u001b[0m\u001b[0mdata\u001b[0m\u001b[1;33m,\u001b[0m \u001b[0mindex\u001b[0m\u001b[1;33m)\u001b[0m\u001b[1;33m:\u001b[0m\u001b[1;33m\u001b[0m\u001b[1;33m\u001b[0m\u001b[0m\n\u001b[1;32m----> 2\u001b[1;33m     \u001b[1;32mreturn\u001b[0m \u001b[0mdata\u001b[0m\u001b[1;33m[\u001b[0m\u001b[0mindex\u001b[0m\u001b[1;33m]\u001b[0m\u001b[1;33m\u001b[0m\u001b[1;33m\u001b[0m\u001b[0m\n\u001b[0m\u001b[0;32m      3\u001b[0m \u001b[1;33m\u001b[0m\u001b[0m\n\u001b[0;32m      4\u001b[0m \u001b[0mnames\u001b[0m \u001b[1;33m=\u001b[0m \u001b[1;33m[\u001b[0m\u001b[1;34m'Alpha'\u001b[0m\u001b[1;33m,\u001b[0m \u001b[1;34m'Victor'\u001b[0m\u001b[1;33m,\u001b[0m \u001b[1;34m'Charles'\u001b[0m\u001b[1;33m]\u001b[0m\u001b[1;33m\u001b[0m\u001b[1;33m\u001b[0m\u001b[0m\n\u001b[0;32m      5\u001b[0m \u001b[1;33m\u001b[0m\u001b[0m\n",
      "\u001b[1;31mIndexError\u001b[0m: list index out of range"
     ]
    }
   ],
   "source": [
    "def getData(data, index):\n",
    "    return data[index]\n",
    "    \n",
    "names = ['Alpha', 'Victor', 'Charles']\n",
    "\n",
    "getData(names, 5)"
   ]
  },
  {
   "cell_type": "code",
   "execution_count": 10,
   "metadata": {},
   "outputs": [
    {
     "name": "stdout",
     "output_type": "stream",
     "text": [
      "Invalid index, try again.\n"
     ]
    }
   ],
   "source": [
    "def getData(data, index):\n",
    "    try:\n",
    "        return data[index]\n",
    "    except IndexError:\n",
    "        print('Invalid index, try again.')\n",
    "        \n",
    "names = ['Alpha', 'Victor', 'Charles']\n",
    "\n",
    "getData(names, 5)"
   ]
  },
  {
   "cell_type": "markdown",
   "metadata": {},
   "source": [
    "### Question 5:\n",
    "\n",
    "We have a function given below that adds elements of two lists. However, I can think of two exceptions that can occur in this program. \n",
    "\n",
    "1. The index entered by the user during the function call may be out of bound.\n",
    "2. The list entered by the user can consist of int objects, str objects, or even a combination of both. And what if we try to add an int object and an str object?\n",
    "\n",
    "Re-write this program to handle the two exceptions mentioned above.\n",
    "\n",
    "#### Expected Output:\n",
    "\n",
    "Invalid index, try again."
   ]
  },
  {
   "cell_type": "code",
   "execution_count": 5,
   "metadata": {},
   "outputs": [
    {
     "ename": "IndexError",
     "evalue": "list index out of range",
     "output_type": "error",
     "traceback": [
      "\u001b[1;31m---------------------------------------------------------------------------\u001b[0m",
      "\u001b[1;31mIndexError\u001b[0m                                Traceback (most recent call last)",
      "\u001b[1;32m<ipython-input-5-8f6d5031b994>\u001b[0m in \u001b[0;36m<module>\u001b[1;34m\u001b[0m\n\u001b[0;32m      5\u001b[0m \u001b[0mnumList_2\u001b[0m \u001b[1;33m=\u001b[0m \u001b[1;33m[\u001b[0m\u001b[1;36m2\u001b[0m\u001b[1;33m,\u001b[0m \u001b[1;36m7\u001b[0m\u001b[1;33m,\u001b[0m \u001b[1;36m11\u001b[0m\u001b[1;33m,\u001b[0m \u001b[1;36m18\u001b[0m\u001b[1;33m]\u001b[0m\u001b[1;33m\u001b[0m\u001b[1;33m\u001b[0m\u001b[0m\n\u001b[0;32m      6\u001b[0m \u001b[1;33m\u001b[0m\u001b[0m\n\u001b[1;32m----> 7\u001b[1;33m \u001b[0madd_elements\u001b[0m\u001b[1;33m(\u001b[0m\u001b[0mnumList_1\u001b[0m\u001b[1;33m,\u001b[0m \u001b[0mnumList_2\u001b[0m\u001b[1;33m,\u001b[0m \u001b[1;36m5\u001b[0m\u001b[1;33m)\u001b[0m\u001b[1;33m\u001b[0m\u001b[1;33m\u001b[0m\u001b[0m\n\u001b[0m",
      "\u001b[1;32m<ipython-input-5-8f6d5031b994>\u001b[0m in \u001b[0;36madd_elements\u001b[1;34m(data_1, data_2, index)\u001b[0m\n\u001b[0;32m      1\u001b[0m \u001b[1;32mdef\u001b[0m \u001b[0madd_elements\u001b[0m\u001b[1;33m(\u001b[0m\u001b[0mdata_1\u001b[0m\u001b[1;33m,\u001b[0m \u001b[0mdata_2\u001b[0m\u001b[1;33m,\u001b[0m \u001b[0mindex\u001b[0m\u001b[1;33m)\u001b[0m\u001b[1;33m:\u001b[0m\u001b[1;33m\u001b[0m\u001b[1;33m\u001b[0m\u001b[0m\n\u001b[1;32m----> 2\u001b[1;33m     \u001b[1;32mreturn\u001b[0m \u001b[0mdata_1\u001b[0m\u001b[1;33m[\u001b[0m\u001b[0mindex\u001b[0m\u001b[1;33m]\u001b[0m \u001b[1;33m+\u001b[0m \u001b[0mdata_2\u001b[0m\u001b[1;33m[\u001b[0m\u001b[0mindex\u001b[0m\u001b[1;33m]\u001b[0m\u001b[1;33m\u001b[0m\u001b[1;33m\u001b[0m\u001b[0m\n\u001b[0m\u001b[0;32m      3\u001b[0m \u001b[1;33m\u001b[0m\u001b[0m\n\u001b[0;32m      4\u001b[0m \u001b[0mnumList_1\u001b[0m \u001b[1;33m=\u001b[0m \u001b[1;33m[\u001b[0m\u001b[1;36m1\u001b[0m\u001b[1;33m,\u001b[0m \u001b[1;36m5\u001b[0m\u001b[1;33m,\u001b[0m \u001b[1;36m9\u001b[0m\u001b[1;33m,\u001b[0m \u001b[1;36m15\u001b[0m\u001b[1;33m]\u001b[0m\u001b[1;33m\u001b[0m\u001b[1;33m\u001b[0m\u001b[0m\n\u001b[0;32m      5\u001b[0m \u001b[0mnumList_2\u001b[0m \u001b[1;33m=\u001b[0m \u001b[1;33m[\u001b[0m\u001b[1;36m2\u001b[0m\u001b[1;33m,\u001b[0m \u001b[1;36m7\u001b[0m\u001b[1;33m,\u001b[0m \u001b[1;36m11\u001b[0m\u001b[1;33m,\u001b[0m \u001b[1;36m18\u001b[0m\u001b[1;33m]\u001b[0m\u001b[1;33m\u001b[0m\u001b[1;33m\u001b[0m\u001b[0m\n",
      "\u001b[1;31mIndexError\u001b[0m: list index out of range"
     ]
    }
   ],
   "source": [
    "def add_elements(data_1, data_2, index):\n",
    "    return data_1[index] + data_2[index]\n",
    "\n",
    "numList_1 = [1, 5, 9, 15]\n",
    "numList_2 = [2, 7, 11, 18]\n",
    "\n",
    "add_elements(numList_1, numList_2, 5)"
   ]
  },
  {
   "cell_type": "code",
   "execution_count": 11,
   "metadata": {},
   "outputs": [
    {
     "name": "stdout",
     "output_type": "stream",
     "text": [
      "Invalid index, try again.\n"
     ]
    }
   ],
   "source": [
    "def add_elements(data_1, data_2, index):\n",
    "    try:\n",
    "        return data_1[index] + data_2[index]\n",
    "    except IndexError:\n",
    "        print('Invalid index, try again.')\n",
    "    except TypeError:\n",
    "        print('Cannot add elements of different types.')  \n",
    "        \n",
    "numList_1 = [1, 5, 9, 15]\n",
    "numList_2 = [2, 7, 11, 18]\n",
    "\n",
    "add_elements(numList_1, numList_2, 5)"
   ]
  },
  {
   "cell_type": "markdown",
   "metadata": {},
   "source": [
    "### Question 6:\n",
    "\n",
    "Write a Python program to find the day of the week for the date given below. Also, we don't know what errors we might encounter while executing the program. So, wrap the code inside a try-except block and handle the exceptions by printing the message *'Oops! An error occurred.'*\n",
    "\n",
    "given_date = datetime(2010, 6, 12)\n",
    "\n",
    "#### Expected Output:\n",
    "\n",
    "Saturday"
   ]
  },
  {
   "cell_type": "code",
   "execution_count": 12,
   "metadata": {},
   "outputs": [
    {
     "name": "stdout",
     "output_type": "stream",
     "text": [
      "Saturday\n"
     ]
    }
   ],
   "source": [
    "from datetime import datetime\n",
    "\n",
    "given_date = datetime(2010, 6, 12)\n",
    "\n",
    "try:\n",
    "    day_of_week = given_date.strftime('%A')\n",
    "    print(day_of_week)\n",
    "except Exception:\n",
    "    print('Oops! An error occured.')"
   ]
  },
  {
   "cell_type": "markdown",
   "metadata": {},
   "source": [
    "### Question 7:\n",
    "\n",
    "Write a function to reverse a string if it's length is an even number. I think of the *TypeError* exception if a numeric value is passed inside the function call. But there might be other exceptions too that can occur while executing the program. \n",
    "<br>So, wrap the function around a try-except block and handle the *TypeError* exception with the message *'Check the string.'* For all other exceptions, print the message *'Something went wrong.'*\n",
    "\n",
    "*Input String = 'Python'*\n",
    "\n",
    "#### Expected Output:\n",
    "\n",
    "nohtyP"
   ]
  },
  {
   "cell_type": "code",
   "execution_count": 13,
   "metadata": {},
   "outputs": [
    {
     "name": "stdout",
     "output_type": "stream",
     "text": [
      "nohtyP\n"
     ]
    }
   ],
   "source": [
    "def reverse_string_if_even(input_string):\n",
    "    try:\n",
    "        if len(input_string) % 2 == 0:\n",
    "            return input_string[::-1]\n",
    "        else:\n",
    "            return input_string\n",
    "    except TypeError:\n",
    "        print(\"Check the string.\")\n",
    "    except Exception:\n",
    "        print(\"Something went wrong.\")\n",
    "        \n",
    "input_string = \"Python\"\n",
    "print(reverse_string_if_even(input_string))"
   ]
  },
  {
   "cell_type": "markdown",
   "metadata": {},
   "source": [
    "### Question 8:\n",
    "\n",
    "Write a function to extract the first ten letters of a string passed as an argument. But if the string is less than ten characters long, raise a *ValueError* and handle it using the message *'Oops! Too short string.'*\n",
    "\n",
    "#### Expected Output:\n",
    "\n",
    "Oops! Too short string."
   ]
  },
  {
   "cell_type": "code",
   "execution_count": 15,
   "metadata": {},
   "outputs": [
    {
     "name": "stdout",
     "output_type": "stream",
     "text": [
      "Oops! Too short string.\n"
     ]
    }
   ],
   "source": [
    "def extract_first_ten_letters(input_string):\n",
    "    try:\n",
    "        if len(input_string) < 10:\n",
    "            raise ValueError(\"Oops! Too short string.\")\n",
    "        return input_string[:10]\n",
    "    except ValueError as e:\n",
    "        print(e)\n",
    "        \n",
    "extract_first_ten_letters(\"Hello\")"
   ]
  },
  {
   "cell_type": "markdown",
   "metadata": {},
   "source": [
    "### Question 9:\n",
    "\n",
    "Write a program to square the number entered by the user. But what if the user enters a string or an alphanumeric value, or if some other unexpected exceptions occur. So, wrap the program inside the try-except block to handle the exceptions, and the program should run until the user enters a numeric value.\n",
    "\n",
    "#### Expected Output:\n",
    "\n",
    "*Enter a number*: aa\n",
    "<br>Enter a valid input.\n",
    "<br>*Enter a number*: 5\n",
    "<br>25"
   ]
  },
  {
   "cell_type": "code",
   "execution_count": 3,
   "metadata": {},
   "outputs": [
    {
     "name": "stdout",
     "output_type": "stream",
     "text": [
      "Enter a valid input.\n",
      "25\n"
     ]
    }
   ],
   "source": [
    "while True:\n",
    "    try:\n",
    "        num = int(input(\"Enter a number: \"))\n",
    "        print(num ** 2)\n",
    "        break\n",
    "    except ValueError:\n",
    "        print(\"Enter a valid input.\")\n",
    "    except Exception:\n",
    "        print(\"An unexpected error occured. Please try again.\")"
   ]
  },
  {
   "cell_type": "markdown",
   "metadata": {},
   "source": [
    "### Question 10:\n",
    "\n",
    "Write a program to process the results of the user. The program should consist of a user-defined exception class *'InvalidNumError'* to raise an error if the marks entered by the user is less than 0 or greater than 100. Otherwise, print the message *'Results processing.'*\n",
    "\n",
    "#### Expected Output:\n",
    "\n",
    "Results processing.\n",
    "<br>Error! Try again."
   ]
  },
  {
   "cell_type": "code",
   "execution_count": 4,
   "metadata": {},
   "outputs": [
    {
     "name": "stdout",
     "output_type": "stream",
     "text": [
      "Results processing.\n",
      "Erorr! Try again.\n"
     ]
    }
   ],
   "source": [
    "class InvalidNumError(Exception):\n",
    "    pass\n",
    "\n",
    "def process_results(marks):\n",
    "    try:\n",
    "        if marks < 0 or marks > 100:\n",
    "            raise InvalidNumError(\"Erorr! Try again.\")\n",
    "        else:\n",
    "            print(\"Results processing.\")\n",
    "    except InvalidNumError as e:\n",
    "        print(e)\n",
    "        \n",
    "process_results(85)\n",
    "process_results(150)"
   ]
  }
 ],
 "metadata": {
  "kernelspec": {
   "display_name": "Python 3",
   "language": "python",
   "name": "python3"
  },
  "language_info": {
   "codemirror_mode": {
    "name": "ipython",
    "version": 3
   },
   "file_extension": ".py",
   "mimetype": "text/x-python",
   "name": "python",
   "nbconvert_exporter": "python",
   "pygments_lexer": "ipython3",
   "version": "3.8.3"
  }
 },
 "nbformat": 4,
 "nbformat_minor": 4
}
